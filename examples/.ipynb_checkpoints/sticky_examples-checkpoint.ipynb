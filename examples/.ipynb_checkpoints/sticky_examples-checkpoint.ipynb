{
 "metadata": {
  "name": "",
  "signature": "sha256:f5b1d0b496e3f359a5451d2a7707afe5097937357662e2f7d672563e895bad0d"
 },
 "nbformat": 3,
 "nbformat_minor": 0,
 "worksheets": [
  {
   "cells": [
    {
     "cell_type": "code",
     "collapsed": false,
     "input": [
      "import sticky\n",
      "from IPython.core.display import display, Javascript\n",
      "\n",
      "sticky.initialize_notebook()"
     ],
     "language": "python",
     "metadata": {},
     "outputs": [
      {
       "html": [
        "<script>\n",
        "\n",
        " function load_sticky_libs(){\n",
        "    console.log('Loading Sticky libraries...')\n",
        "    $.getScript('https://wrobstory.github.io/micropolar/micropolar.js', function(){\n",
        "      console.log('micropolar loaded...')\n",
        "    })\n",
        "  };\n",
        "\n",
        " if(typeof define === \"function\" && define.amd){\n",
        "      var load_paths = {\n",
        "        paths: {\n",
        "          d3: 'http://d3js.org/d3.v3.min'\n",
        "        }\n",
        "      };\n",
        "      var libs = ['d3'];\n",
        "      for (var i=0; i < libs.length; i++){\n",
        "        lib = libs[i]\n",
        "        if (window[lib] !== undefined){\n",
        "          delete load_paths.paths[lib]\n",
        "        };\n",
        "      };\n",
        "      if (Object.keys(load_paths.paths).length != 0){\n",
        "        require.config(load_paths);\n",
        "        require([\"d3\"], function(d3){\n",
        "            console.log('D3 Loaded...')\n",
        "            window.d3 = d3;\n",
        "            load_sticky_libs();\n",
        "        });\n",
        "      }\n",
        "\n",
        " }else{\n",
        "      console.log('Require.js not found!');\n",
        "      throw \"Require.js not found!\"\n",
        " };\n",
        "\n",
        "</script>"
       ],
       "metadata": {},
       "output_type": "display_data",
       "text": [
        "<IPython.core.display.HTML at 0x10ebb1f50>"
       ]
      }
     ],
     "prompt_number": 1
    },
    {
     "cell_type": "code",
     "collapsed": false,
     "input": [
      "mic = sticky.Micropolar()\n",
      "from IPython.html.widgets import interact\n",
      "def change_dims(width=125, height=125):\n",
      "    mic.height = 125\n",
      "    mic.width = 125\n",
      "    mic.send_state()\n",
      "    mic.plot()\n",
      "interact(change_dims, width=250, height=250)"
     ],
     "language": "python",
     "metadata": {},
     "outputs": [
      {
       "output_type": "stream",
       "stream": "stdout",
       "text": [
        "\r"
       ]
      },
      {
       "output_type": "stream",
       "stream": "stderr",
       "text": [
        "\r"
       ]
      }
     ],
     "prompt_number": 7
    },
    {
     "cell_type": "code",
     "collapsed": false,
     "input": [
      "plus = sticky.d3Plus()\n",
      "plus.plot()"
     ],
     "language": "python",
     "metadata": {},
     "outputs": [
      {
       "javascript": [
        "require([\"widgets/js/widget\"], function(WidgetManager){\n",
        "\n",
        "    // Define the DOM Creation view for Sticky charts\n",
        "    var StickyDOMWidget = IPython.DOMWidgetView.extend({\n",
        "        render: function(){\n",
        "            var chart_id = this.model.get('chart_id');\n",
        "            var chart_elm = '<div class=\"' + chart_id + '\"></div>';\n",
        "            $(chart_elm).appendTo(this.$el);\n",
        "        },\n",
        "    });\n",
        "    // Register the DOM Renderer with the Widget Manager\n",
        "    WidgetManager.register_widget_view('StickyDOMWidget', StickyDOMWidget);\n",
        "});"
       ],
       "metadata": {},
       "output_type": "display_data",
       "text": [
        "<IPython.core.display.Javascript at 0x10ec80fd0>"
       ]
      },
      {
       "javascript": [
        "//D3 Plus Library Renderer\n",
        "\n",
        "require([\"widgets/js/widget\"], function(WidgetManager){\n",
        "\n",
        "    // Define the DOM Rendering View\n",
        "    var D3PlusRenderer = IPython.DOMWidgetView.extend({\n",
        "        render: function(){\n",
        "            var chart_id = '.' + this.model.get('chart_id');\n",
        "            var sample_data = [\n",
        "              {\"year\": 1991, \"name\":\"alpha\", \"value\": 15},\n",
        "              {\"year\": 1992, \"name\":\"alpha\", \"value\": 20},\n",
        "              {\"year\": 1994, \"name\":\"alpha\", \"value\": 30},\n",
        "              {\"year\": 1995, \"name\":\"alpha\", \"value\": 60},\n",
        "              {\"year\": 1993, \"name\":\"beta\", \"value\": 40},\n",
        "              {\"year\": 1994, \"name\":\"beta\", \"value\": 60},\n",
        "              {\"year\": 1995, \"name\":\"beta\", \"value\": 10},\n",
        "              {\"year\": 1994, \"name\":\"gamma\", \"value\": 35},\n",
        "              {\"year\": 1995, \"name\":\"gamma\", \"value\": 40}\n",
        "            ];\n",
        "\n",
        "            // instantiate d3plus\n",
        "            debugger\n",
        "            var visualization = d3plus.viz()\n",
        "              .container(chart_id)  // container DIV to hold the visualization\n",
        "              .data(sample_data)  // data to use with the visualization\n",
        "              .type(\"line\")       // visualization type\n",
        "              .id(\"name\")         // key for which our data is unique on\n",
        "              .text(\"name\")       // key to use for display text\n",
        "              .y(\"value\")         // key to use for y-axis\n",
        "              .x(\"year\")          // key to use for x-axis\n",
        "              .draw();             // finally, draw the visualization!\n",
        "        },\n",
        "\n",
        "        update: function(){\n",
        "            test = 1;\n",
        "        }\n",
        "    });\n",
        "    // Register the DOM Rendering View\n",
        "    WidgetManager.register_widget_view('D3Plus', D3PlusRenderer);\n",
        "});"
       ],
       "metadata": {},
       "output_type": "display_data",
       "text": [
        "<IPython.core.display.Javascript at 0x10ec14f90>"
       ]
      }
     ],
     "prompt_number": 7
    },
    {
     "cell_type": "code",
     "collapsed": false,
     "input": [],
     "language": "python",
     "metadata": {},
     "outputs": []
    }
   ],
   "metadata": {}
  }
 ]
}