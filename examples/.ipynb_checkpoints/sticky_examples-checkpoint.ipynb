{
 "metadata": {
  "name": "",
  "signature": "sha256:e56f85ee343a74e243f25b4a1049f5b556261e0e7b628ca8631563bcc1603b73"
 },
 "nbformat": 3,
 "nbformat_minor": 0,
 "worksheets": [
  {
   "cells": [
    {
     "cell_type": "code",
     "collapsed": false,
     "input": [
      "import sticky\n",
      "import pandas as pd\n",
      "from IPython.core.display import display, Javascript\n",
      "from IPython.html.widgets import interact\n",
      "\n",
      "sticky.initialize_notebook()"
     ],
     "language": "python",
     "metadata": {},
     "outputs": [
      {
       "html": [
        "<script>\n",
        "\n",
        " function load_sticky_libs(){\n",
        "    console.log('Loading Sticky libraries...')\n",
        "    libs = {\n",
        "      'd3plus': 'http://wrobstory.github.io/d3plus/d3plus.js',\n",
        "      'micropolar': 'https://wrobstory.github.io/micropolar/micropolar.js'\n",
        "    }\n",
        "    lib_names = Object.keys(libs)\n",
        "    for (var i=0; i < lib_names.length; i++){\n",
        "      lib_name = lib_names[i];\n",
        "      if (window[lib_name] === undefined){\n",
        "        function getscript(lib_name){\n",
        "          $.getScript(libs[lib_name], function(){\n",
        "            console.log(lib_name + \" loaded...\")\n",
        "        })};\n",
        "        getscript(lib_name)\n",
        "      }\n",
        "    }\n",
        "  };\n",
        "\n",
        " if(typeof define === \"function\" && define.amd){\n",
        "      var load_paths = {\n",
        "        paths: {\n",
        "          d3: 'http://d3js.org/d3.v3.min'\n",
        "        }\n",
        "      };\n",
        "      var libs = ['d3'];\n",
        "      for (var i=0; i < libs.length; i++){\n",
        "        lib = libs[i]\n",
        "        if (window[lib] !== undefined){\n",
        "          delete load_paths.paths[lib]\n",
        "        };\n",
        "      };\n",
        "      if (Object.keys(load_paths.paths).length != 0){\n",
        "        require.config(load_paths);\n",
        "        require([\"d3\"], function(d3){\n",
        "            console.log('D3 Loaded...')\n",
        "            window.d3 = d3;\n",
        "            load_sticky_libs();\n",
        "        });\n",
        "      } else {\n",
        "          load_sticky_libs();\n",
        "      };\n",
        "\n",
        " }else{\n",
        "      console.log('Require.js not found!');\n",
        "      throw \"Require.js not found!\"\n",
        " };\n",
        "\n",
        "</script>"
       ],
       "metadata": {},
       "output_type": "display_data",
       "text": [
        "<IPython.core.display.HTML at 0x108d36e90>"
       ]
      }
     ],
     "prompt_number": 1
    },
    {
     "cell_type": "code",
     "collapsed": false,
     "input": [
      "# mic = sticky.Micropolar()\n",
      "# def change_dims(width=125, height=125):\n",
      "#     mic.height = 125\n",
      "#     mic.width = 125\n",
      "#     mic.send_state()\n",
      "#     mic.plot()\n",
      "# interact(change_dims, width=250, height=250)"
     ],
     "language": "python",
     "metadata": {},
     "outputs": [
      {
       "output_type": "stream",
       "stream": "stdout",
       "text": [
        "\r"
       ]
      },
      {
       "output_type": "stream",
       "stream": "stderr",
       "text": [
        "\r"
       ]
      }
     ],
     "prompt_number": 7
    },
    {
     "cell_type": "code",
     "collapsed": false,
     "input": [
      "# plus = sticky.d3Plus()\n",
      "# plus.plot()\n",
      "ws = pd.read_table('CO_WS_2011_2012.txt')\n",
      "ws['Date & Time Stamp'] = pd.to_datetime(ws['Date & Time Stamp'])"
     ],
     "language": "python",
     "metadata": {},
     "outputs": [],
     "prompt_number": 33
    },
    {
     "cell_type": "code",
     "collapsed": false,
     "input": [
      "dat = {\n",
      "'test_data': [\n",
      "    {\"year\": 1991, \"name\":\"alpha\", \"value\": 15},\n",
      "    {\"year\": 1992, \"name\":\"alpha\", \"value\": 20},\n",
      "    {\"year\": 1994, \"name\":\"alpha\", \"value\": 30},\n",
      "    {\"year\": 1995, \"name\":\"alpha\", \"value\": 60},\n",
      "    {\"year\": 1993, \"name\":\"beta\", \"value\": 40},\n",
      "    {\"year\": 1994, \"name\":\"beta\", \"value\": 60},\n",
      "    {\"year\": 1995, \"name\":\"beta\", \"value\": 10},\n",
      "    {\"year\": 1994, \"name\":\"gamma\", \"value\": 35},\n",
      "    {\"year\": 1995, \"name\":\"gamma\", \"value\": 40}\n",
      "  ],\n",
      "'data_2': [\n",
      "    {\"year\": 1991, \"name\":\"alpha\", \"value\": 30},\n",
      "    {\"year\": 1992, \"name\":\"alpha\", \"value\": 20},\n",
      "    {\"year\": 1994, \"name\":\"alpha\", \"value\": 50},\n",
      "    {\"year\": 1995, \"name\":\"alpha\", \"value\": 60},\n",
      "    {\"year\": 1993, \"name\":\"beta\", \"value\": 32},\n",
      "    {\"year\": 1994, \"name\":\"beta\", \"value\": 60},\n",
      "    {\"year\": 1995, \"name\":\"beta\", \"value\": 56},\n",
      "    {\"year\": 1994, \"name\":\"gamma\", \"value\": 19},\n",
      "    {\"year\": 1995, \"name\":\"gamma\", \"value\": 40}\n",
      "  ],\n",
      "'data_3': [\n",
      "    {\"year\": 1991, \"name\":\"alpha\", \"value\": 20},\n",
      "    {\"year\": 1992, \"name\":\"alpha\", \"value\": 30},\n",
      "    {\"year\": 1994, \"name\":\"alpha\", \"value\": 40},\n",
      "    {\"year\": 1995, \"name\":\"alpha\", \"value\": 60},\n",
      "    {\"year\": 1993, \"name\":\"beta\", \"value\": 10},\n",
      "    {\"year\": 1994, \"name\":\"beta\", \"value\": 40},\n",
      "    {\"year\": 1995, \"name\":\"beta\", \"value\": 35},\n",
      "    {\"year\": 1994, \"name\":\"gamma\", \"value\": 45},\n",
      "    {\"year\": 1995, \"name\":\"gamma\", \"value\": 20}\n",
      "  ]\n",
      "}\n",
      "line_chart = (sticky.d3Plus()\n",
      "                    .line(width=1000, height=500)\n",
      "                    .data(dat['test_data'])\n",
      "                    .key('name')\n",
      "                    .x('value')\n",
      "                    .y('year'))\n",
      "line_chart.plot()\n",
      "@interact\n",
      "def update_chart(data=['test_data', 'data_2', 'data_3']):\n",
      "    print(dat[data])\n",
      "    line_chart.update(data=dat[data])"
     ],
     "language": "python",
     "metadata": {},
     "outputs": [
      {
       "output_type": "stream",
       "stream": "stdout",
       "text": [
        "[{'name': 'alpha', 'value': 20, 'year': 1991}, {'name': 'alpha', 'value': 30, 'year': 1992}, {'name': 'alpha', 'value': 40, 'year': 1994}, {'name': 'alpha', 'value': 60, 'year': 1995}, {'name': 'beta', 'value': 10, 'year': 1993}, {'name': 'beta', 'value': 40, 'year': 1994}, {'name': 'beta', 'value': 35, 'year': 1995}, {'name': 'gamma', 'value': 45, 'year': 1994}, {'name': 'gamma', 'value': 20, 'year': 1995}]\n"
       ]
      }
     ],
     "prompt_number": 24
    },
    {
     "cell_type": "code",
     "collapsed": false,
     "input": [
      "line_chart.model_x"
     ],
     "language": "python",
     "metadata": {},
     "outputs": [
      {
       "metadata": {},
       "output_type": "pyout",
       "prompt_number": 7,
       "text": [
        "u'Date & Time Stamp'"
       ]
      }
     ],
     "prompt_number": 7
    },
    {
     "cell_type": "code",
     "collapsed": false,
     "input": [],
     "language": "python",
     "metadata": {},
     "outputs": []
    }
   ],
   "metadata": {}
  }
 ]
}