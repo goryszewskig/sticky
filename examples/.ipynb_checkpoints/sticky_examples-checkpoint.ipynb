{
 "metadata": {
  "name": "",
  "signature": "sha256:cd909493a9699410605ce7e6a48770a1364ba018348b62f67f7e7d97a18aef9c"
 },
 "nbformat": 3,
 "nbformat_minor": 0,
 "worksheets": [
  {
   "cells": [
    {
     "cell_type": "code",
     "collapsed": false,
     "input": [
      "import sticky\n",
      "import pandas as pd\n",
      "from IPython.core.display import display, Javascript\n",
      "from IPython.html.widgets import interact\n",
      "\n",
      "sticky.initialize_notebook()"
     ],
     "language": "python",
     "metadata": {},
     "outputs": [
      {
       "html": [
        "<script>\n",
        "\n",
        " function load_sticky_libs(){\n",
        "    console.log('Loading Sticky libraries...')\n",
        "    libs = {\n",
        "      'd3plus': 'http://wrobstory.github.io/d3plus/d3plus.js',\n",
        "      'micropolar': 'https://wrobstory.github.io/micropolar/micropolar.js'\n",
        "    }\n",
        "    lib_names = Object.keys(libs)\n",
        "    for (var i=0; i < lib_names.length; i++){\n",
        "      lib_name = lib_names[i];\n",
        "      if (window[lib_name] === undefined){\n",
        "        function getscript(lib_name){\n",
        "          $.getScript(libs[lib_name], function(){\n",
        "            console.log(lib_name + \" loaded...\")\n",
        "        })};\n",
        "        getscript(lib_name)\n",
        "      }\n",
        "    }\n",
        "  };\n",
        "\n",
        " if(typeof define === \"function\" && define.amd){\n",
        "      var load_paths = {\n",
        "        paths: {\n",
        "          d3: 'http://d3js.org/d3.v3.min'\n",
        "        }\n",
        "      };\n",
        "      var libs = ['d3'];\n",
        "      for (var i=0; i < libs.length; i++){\n",
        "        lib = libs[i]\n",
        "        if (window[lib] !== undefined){\n",
        "          delete load_paths.paths[lib]\n",
        "        };\n",
        "      };\n",
        "      if (Object.keys(load_paths.paths).length != 0){\n",
        "        require.config(load_paths);\n",
        "        require([\"d3\"], function(d3){\n",
        "            console.log('D3 Loaded...')\n",
        "            window.d3 = d3;\n",
        "            load_sticky_libs();\n",
        "        });\n",
        "      } else {\n",
        "          load_sticky_libs();\n",
        "      };\n",
        "\n",
        " }else{\n",
        "      console.log('Require.js not found!');\n",
        "      throw \"Require.js not found!\"\n",
        " };\n",
        "\n",
        "</script>"
       ],
       "metadata": {},
       "output_type": "display_data",
       "text": [
        "<IPython.core.display.HTML at 0x110104590>"
       ]
      }
     ],
     "prompt_number": 1
    },
    {
     "cell_type": "code",
     "collapsed": false,
     "input": [
      "mic = sticky.Micropolar(height=250, width=250)\n",
      "mic.plot()"
     ],
     "language": "python",
     "metadata": {},
     "outputs": [
      {
       "javascript": [
        "require([\"widgets/js/widget\"], function(WidgetManager){\n",
        "\n",
        "    // Define the DOM Creation view for Sticky charts\n",
        "    var StickyDOMWidget = IPython.DOMWidgetView.extend({\n",
        "        render: function(){\n",
        "            var chart_id = this.model.get('chart_id');\n",
        "            var chart_elm = '<div class=\"' + chart_id + '\"></div>';\n",
        "            $(chart_elm).appendTo(this.$el);\n",
        "        },\n",
        "    });\n",
        "    // Register the DOM Renderer with the Widget Manager\n",
        "    WidgetManager.register_widget_view('StickyDOMWidget', StickyDOMWidget);\n",
        "});"
       ],
       "metadata": {},
       "output_type": "display_data",
       "text": [
        "<IPython.core.display.Javascript at 0x10e6d2b90>"
       ]
      },
      {
       "javascript": [
        "//Micropolar Library DOM Creator and Renderer\n",
        "\n",
        "require([\"widgets/js/widget\"], function(WidgetManager){\n",
        "\n",
        "    // Define the DOM Cration View For Micropolar\n",
        "    var MicropolarDOM = IPython.DOMWidgetView.extend({\n",
        "        render: function(){\n",
        "            var chart_id = this.model.get('chart_id');\n",
        "            var chart_elm = '<div class=\"' + chart_id + '\"></div>';\n",
        "            $(chart_elm).appendTo(this.$el);\n",
        "        },\n",
        "    });\n",
        "    // Register the DOM Renderer with the Widget Manager\n",
        "    WidgetManager.register_widget_view('MicropolarDOM', MicropolarDOM);\n",
        "});\n",
        "\n",
        "require([\"widgets/js/widget\"], function(WidgetManager){\n",
        "\n",
        "    // Define the DOM Rendering View\n",
        "    var MicropolarRender = IPython.DOMWidgetView.extend({\n",
        "        render: function(){\n",
        "            var chart_id = '.' + this.model.get('chart_id');\n",
        "            var polarPlot = micropolar.DotPlot();\n",
        "            this.$plot_config = {\n",
        "                geometry: polarPlot,\n",
        "                data: [[0, 500], [1, 1000], [3, 2000]],\n",
        "                height: this.model.get('height'),\n",
        "                width: this.model.get('width'),\n",
        "                angularDomain: [0, 2000],\n",
        "                angularTicksStep: 400,\n",
        "                minorTicks: 1,\n",
        "                flip: false,\n",
        "                originTheta: 0,\n",
        "                radialAxisTheta: -15,\n",
        "                containerSelector: chart_id\n",
        "            };\n",
        "            this.$micropolar_chart = micropolar.Axis().config(this.$plot_config);\n",
        "            this.$micropolar_chart();\n",
        "        },\n",
        "\n",
        "        update: function(){\n",
        "            this.$plot_config.height = this.model.get('height');\n",
        "            this.$plot_config.width = this.model.get('width');\n",
        "            this.$micropolar_chart.config(this.$plot_config);\n",
        "            this.$micropolar_chart();\n",
        "            return MicropolarRender.__super__.update.apply(this);\n",
        "        }\n",
        "    });\n",
        "    // Register the DOM Rendering View\n",
        "    WidgetManager.register_widget_view('Micropolar', MicropolarRender);\n",
        "});"
       ],
       "metadata": {},
       "output_type": "display_data",
       "text": [
        "<IPython.core.display.Javascript at 0x110a51cd0>"
       ]
      },
      {
       "javascript": [
        "require([\"widgets/js/widget\"], function(WidgetManager){\n",
        "\n",
        "    // Define the DOM Creation view for Sticky charts\n",
        "    var StickyDOMWidget = IPython.DOMWidgetView.extend({\n",
        "        render: function(){\n",
        "            var chart_id = this.model.get('chart_id');\n",
        "            var chart_elm = '<div class=\"' + chart_id + '\"></div>';\n",
        "            $(chart_elm).appendTo(this.$el);\n",
        "        },\n",
        "    });\n",
        "    // Register the DOM Renderer with the Widget Manager\n",
        "    WidgetManager.register_widget_view('StickyDOMWidget', StickyDOMWidget);\n",
        "});"
       ],
       "metadata": {},
       "output_type": "display_data",
       "text": [
        "<IPython.core.display.Javascript at 0x110ab0490>"
       ]
      },
      {
       "javascript": [
        "//Micropolar Library DOM Creator and Renderer\n",
        "\n",
        "require([\"widgets/js/widget\"], function(WidgetManager){\n",
        "\n",
        "    // Define the DOM Cration View For Micropolar\n",
        "    var MicropolarDOM = IPython.DOMWidgetView.extend({\n",
        "        render: function(){\n",
        "            var chart_id = this.model.get('chart_id');\n",
        "            var chart_elm = '<div class=\"' + chart_id + '\"></div>';\n",
        "            $(chart_elm).appendTo(this.$el);\n",
        "        },\n",
        "    });\n",
        "    // Register the DOM Renderer with the Widget Manager\n",
        "    WidgetManager.register_widget_view('MicropolarDOM', MicropolarDOM);\n",
        "});\n",
        "\n",
        "require([\"widgets/js/widget\"], function(WidgetManager){\n",
        "\n",
        "    // Define the DOM Rendering View\n",
        "    var MicropolarRender = IPython.DOMWidgetView.extend({\n",
        "        render: function(){\n",
        "            var chart_id = '.' + this.model.get('chart_id');\n",
        "            var polarPlot = micropolar.DotPlot();\n",
        "            this.$plot_config = {\n",
        "                geometry: polarPlot,\n",
        "                data: [[0, 500], [1, 1000], [3, 2000]],\n",
        "                height: this.model.get('height'),\n",
        "                width: this.model.get('width'),\n",
        "                angularDomain: [0, 2000],\n",
        "                angularTicksStep: 400,\n",
        "                minorTicks: 1,\n",
        "                flip: false,\n",
        "                originTheta: 0,\n",
        "                radialAxisTheta: -15,\n",
        "                containerSelector: chart_id\n",
        "            };\n",
        "            this.$micropolar_chart = micropolar.Axis().config(this.$plot_config);\n",
        "            this.$micropolar_chart();\n",
        "        },\n",
        "\n",
        "        update: function(){\n",
        "            this.$plot_config.height = this.model.get('height');\n",
        "            this.$plot_config.width = this.model.get('width');\n",
        "            this.$micropolar_chart.config(this.$plot_config);\n",
        "            this.$micropolar_chart();\n",
        "            return MicropolarRender.__super__.update.apply(this);\n",
        "        }\n",
        "    });\n",
        "    // Register the DOM Rendering View\n",
        "    WidgetManager.register_widget_view('Micropolar', MicropolarRender);\n",
        "});"
       ],
       "metadata": {},
       "output_type": "display_data",
       "text": [
        "<IPython.core.display.Javascript at 0x110ab0650>"
       ]
      }
     ],
     "prompt_number": 8
    },
    {
     "cell_type": "code",
     "collapsed": false,
     "input": [
      "dat = {\n",
      "'test_data': [\n",
      "    {\"year\": 1991, \"name\":\"alpha\", \"value\": 15},\n",
      "    {\"year\": 1992, \"name\":\"alpha\", \"value\": 20},\n",
      "    {\"year\": 1994, \"name\":\"alpha\", \"value\": 30},\n",
      "    {\"year\": 1995, \"name\":\"alpha\", \"value\": 60},\n",
      "    {\"year\": 1993, \"name\":\"beta\", \"value\": 40},\n",
      "    {\"year\": 1994, \"name\":\"beta\", \"value\": 60},\n",
      "    {\"year\": 1995, \"name\":\"beta\", \"value\": 10},\n",
      "    {\"year\": 1994, \"name\":\"gamma\", \"value\": 35},\n",
      "    {\"year\": 1995, \"name\":\"gamma\", \"value\": 40}\n",
      "  ],\n",
      "'data_2': [\n",
      "    {\"year\": 1991, \"name\":\"alpha\", \"value\": 30},\n",
      "    {\"year\": 1992, \"name\":\"alpha\", \"value\": 20},\n",
      "    {\"year\": 1994, \"name\":\"alpha\", \"value\": 50},\n",
      "    {\"year\": 1995, \"name\":\"alpha\", \"value\": 60},\n",
      "    {\"year\": 1993, \"name\":\"beta\", \"value\": 32},\n",
      "    {\"year\": 1994, \"name\":\"beta\", \"value\": 60},\n",
      "    {\"year\": 1995, \"name\":\"beta\", \"value\": 56},\n",
      "    {\"year\": 1994, \"name\":\"gamma\", \"value\": 19},\n",
      "    {\"year\": 1995, \"name\":\"gamma\", \"value\": 40}\n",
      "  ],\n",
      "'data_3': [\n",
      "    {\"year\": 1991, \"name\":\"alpha\", \"value\": 20},\n",
      "    {\"year\": 1992, \"name\":\"alpha\", \"value\": 30},\n",
      "    {\"year\": 1994, \"name\":\"alpha\", \"value\": 40},\n",
      "    {\"year\": 1995, \"name\":\"alpha\", \"value\": 60},\n",
      "    {\"year\": 1993, \"name\":\"beta\", \"value\": 10},\n",
      "    {\"year\": 1994, \"name\":\"beta\", \"value\": 40},\n",
      "    {\"year\": 1995, \"name\":\"beta\", \"value\": 35},\n",
      "    {\"year\": 1994, \"name\":\"gamma\", \"value\": 45},\n",
      "    {\"year\": 1995, \"name\":\"gamma\", \"value\": 20}\n",
      "  ]\n",
      "}\n",
      "area_chart = (sticky.d3Plus()\n",
      "                    .stacked_area(width=1000, height=500)\n",
      "                    .data(dat['test_data'])\n",
      "                    .key('name')\n",
      "                    .x('year')\n",
      "                    .y('value'))\n",
      "area_chart.plot()"
     ],
     "language": "python",
     "metadata": {},
     "outputs": [
      {
       "javascript": [
        "require([\"widgets/js/widget\"], function(WidgetManager){\n",
        "\n",
        "    // Define the DOM Creation view for Sticky charts\n",
        "    var StickyDOMWidget = IPython.DOMWidgetView.extend({\n",
        "        render: function(){\n",
        "            var chart_id = this.model.get('chart_id');\n",
        "            var chart_elm = '<div class=\"' + chart_id + '\"></div>';\n",
        "            $(chart_elm).appendTo(this.$el);\n",
        "        },\n",
        "    });\n",
        "    // Register the DOM Renderer with the Widget Manager\n",
        "    WidgetManager.register_widget_view('StickyDOMWidget', StickyDOMWidget);\n",
        "});"
       ],
       "metadata": {},
       "output_type": "display_data",
       "text": [
        "<IPython.core.display.Javascript at 0x113176dd0>"
       ]
      },
      {
       "javascript": [
        "//D3 Plus Library Renderer\n",
        "\n",
        "require([\"widgets/js/widget\"], function(WidgetManager){\n",
        "\n",
        "    function build_chart(chart, model){\n",
        "              var chart_id = '.' + model.get('chart_id');\n",
        "              debugger\n",
        "              chart\n",
        "              .container(chart_id)\n",
        "              .height(model.get('model_height'))\n",
        "              .width(model.get('model_width'))\n",
        "              .data(model.get('model_data'))\n",
        "              .type(model.get('chart_type'))\n",
        "              .id(model.get('model_key'))\n",
        "              .text(model.get('model_key'))\n",
        "              .y(model.get('model_y'))\n",
        "              .x(model.get('model_x'));\n",
        "    }\n",
        "\n",
        "    // Define the DOM Rendering View\n",
        "    var D3PlusRenderer = IPython.DOMWidgetView.extend({\n",
        "        render: function(){\n",
        "            // Instantiate d3plus\n",
        "            this.$d3plus_chart = d3plus.viz();\n",
        "            // Build chart from model params\n",
        "            build_chart(this.$d3plus_chart, this.model);\n",
        "            // Draw\n",
        "            this.$d3plus_chart.draw();\n",
        "        },\n",
        "\n",
        "        update: function(){\n",
        "            build_chart(this.$d3plus_chart, this.model);\n",
        "            this.$d3plus_chart.draw();\n",
        "        }\n",
        "    });\n",
        "    // Register the DOM Rendering View\n",
        "    WidgetManager.register_widget_view('D3Plus', D3PlusRenderer);\n",
        "});"
       ],
       "metadata": {},
       "output_type": "display_data",
       "text": [
        "<IPython.core.display.Javascript at 0x1130b8450>"
       ]
      }
     ],
     "prompt_number": 14
    },
    {
     "cell_type": "code",
     "collapsed": false,
     "input": [
      "line_chart = (sticky.d3Plus()\n",
      "                    .line(width=1000, height=500)\n",
      "                    .data(dat['test_data'])\n",
      "                    .key('name')\n",
      "                    .x('year')\n",
      "                    .y('value'))\n",
      "line_chart.plot()\n",
      "@interact\n",
      "def update_chart(data=['test_data', 'data_2', 'data_3']):\n",
      "    line_chart.update(data=dat[data], chart_type='stacked')"
     ],
     "language": "python",
     "metadata": {},
     "outputs": [
      {
       "output_type": "stream",
       "stream": "stdout",
       "text": [
        "\r"
       ]
      },
      {
       "output_type": "stream",
       "stream": "stderr",
       "text": [
        "\r"
       ]
      }
     ],
     "prompt_number": 15
    },
    {
     "cell_type": "code",
     "collapsed": false,
     "input": [
      "sample_data = [\n",
      "    {\"value\": 100, \"weight\": .45, \"name\": \"alpha\", \"group\": \"group 1\"},\n",
      "    {\"value\": 70, \"weight\": .60, \"name\": \"beta\", \"group\": \"group 2\"},\n",
      "    {\"value\": 40, \"weight\": -.2, \"name\": \"gamma\", \"group\": \"group 2\"},\n",
      "    {\"value\": 15, \"weight\": .1, \"name\": \"delta\", \"group\": \"group 2\"},\n",
      "    {\"value\": 5, \"weight\": -.43, \"name\": \"epsilon\", \"group\": \"group 1\"},\n",
      "    {\"value\": 1, \"weight\": 0, \"name\": \"zeta\", \"group\": \"group 1\"}\n",
      "  ]\n",
      "grouped_scatter = (sticky.d3Plus()\n",
      "                         .grouped_scatter(groupby=\"group\", \n",
      "                                          width=1000, height=500)\n",
      "                         .data(sample_data)\n",
      "                         .key('name')\n",
      "                         .x('value')\n",
      "                         .y('weight'))\n",
      "grouped_scatter.plot()"
     ],
     "language": "python",
     "metadata": {},
     "outputs": [
      {
       "javascript": [
        "require([\"widgets/js/widget\"], function(WidgetManager){\n",
        "\n",
        "    // Define the DOM Creation view for Sticky charts\n",
        "    var StickyDOMWidget = IPython.DOMWidgetView.extend({\n",
        "        render: function(){\n",
        "            var chart_id = this.model.get('chart_id');\n",
        "            var chart_elm = '<div class=\"' + chart_id + '\"></div>';\n",
        "            $(chart_elm).appendTo(this.$el);\n",
        "        },\n",
        "    });\n",
        "    // Register the DOM Renderer with the Widget Manager\n",
        "    WidgetManager.register_widget_view('StickyDOMWidget', StickyDOMWidget);\n",
        "});"
       ],
       "metadata": {},
       "output_type": "display_data",
       "text": [
        "<IPython.core.display.Javascript at 0x11316dc50>"
       ]
      },
      {
       "javascript": [
        "//D3 Plus Library Renderer\n",
        "\n",
        "require([\"widgets/js/widget\"], function(WidgetManager){\n",
        "\n",
        "    function build_chart(chart, model){\n",
        "              var chart_id = '.' + model.get('chart_id');\n",
        "              debugger\n",
        "              chart\n",
        "              .container(chart_id)\n",
        "              .height(model.get('model_height'))\n",
        "              .width(model.get('model_width'))\n",
        "              .data(model.get('model_data'))\n",
        "              .type(model.get('chart_type'))\n",
        "              .id(model.get('model_key'))\n",
        "              .text(model.get('model_key'))\n",
        "              .y(model.get('model_y'))\n",
        "              .x(model.get('model_x'));\n",
        "    }\n",
        "\n",
        "    // Define the DOM Rendering View\n",
        "    var D3PlusRenderer = IPython.DOMWidgetView.extend({\n",
        "        render: function(){\n",
        "            // Instantiate d3plus\n",
        "            this.$d3plus_chart = d3plus.viz();\n",
        "            // Build chart from model params\n",
        "            build_chart(this.$d3plus_chart, this.model);\n",
        "            // Draw\n",
        "            this.$d3plus_chart.draw();\n",
        "        },\n",
        "\n",
        "        update: function(){\n",
        "            build_chart(this.$d3plus_chart, this.model);\n",
        "            this.$d3plus_chart.draw();\n",
        "        }\n",
        "    });\n",
        "    // Register the DOM Rendering View\n",
        "    WidgetManager.register_widget_view('D3Plus', D3PlusRenderer);\n",
        "});"
       ],
       "metadata": {},
       "output_type": "display_data",
       "text": [
        "<IPython.core.display.Javascript at 0x1130b3d90>"
       ]
      }
     ],
     "prompt_number": 16
    },
    {
     "cell_type": "code",
     "collapsed": false,
     "input": [
      "ws = pd.read_table('CO_WS_2011_2012.txt')\n",
      "ws['Date & Time Stamp'] = pd.to_datetime(ws['Date & Time Stamp'])\n",
      "subset = ws[['Date & Time Stamp', 'WS1_50mMean', \n",
      "             'WS2_50mMean', 'WS3_30mMean', 'WS4_40mMean']][:10]\n",
      "molten = pd.melt(subset, id_vars=['Date & Time Stamp'])"
     ],
     "language": "python",
     "metadata": {},
     "outputs": [],
     "prompt_number": 2
    },
    {
     "cell_type": "code",
     "collapsed": false,
     "input": [
      "test = (sticky.C3()\n",
      "              .data(molten)\n",
      "              .x('Date & Time Stamp', timeseries=True)\n",
      "              .y('variable')\n",
      "              .line('WS1_50mMean', 'WS2_50mMean')\n",
      "              .bar('WS3_30mMean', 'WS4_40mMean'))"
     ],
     "language": "python",
     "metadata": {},
     "outputs": [
      {
       "name": "stdout",
       "output_type": "stream",
       "stream": "stdout",
       "text": [
        "ipdb> x\n"
       ]
      },
      {
       "name": "stdout",
       "output_type": "stream",
       "stream": "stdout",
       "text": [
        "ipdb> n\n"
       ]
      },
      {
       "name": "stdout",
       "output_type": "stream",
       "stream": "stdout",
       "text": [
        "ipdb> x\n"
       ]
      },
      {
       "name": "stdout",
       "output_type": "stream",
       "stream": "stdout",
       "text": [
        "ipdb> str(x)\n"
       ]
      },
      {
       "name": "stdout",
       "output_type": "stream",
       "stream": "stdout",
       "text": [
        "ipdb> type(x)\n"
       ]
      },
      {
       "name": "stdout",
       "output_type": "stream",
       "stream": "stdout",
       "text": [
        "ipdb> self.model_x\n"
       ]
      },
      {
       "name": "stdout",
       "output_type": "stream",
       "stream": "stdout",
       "text": [
        "ipdb> n\n"
       ]
      },
      {
       "name": "stdout",
       "output_type": "stream",
       "stream": "stdout",
       "text": [
        "ipdb> n\n"
       ]
      },
      {
       "name": "stdout",
       "output_type": "stream",
       "stream": "stdout",
       "text": [
        "ipdb> c\n"
       ]
      },
      {
       "ename": "TypeError",
       "evalue": "numpy.datetime64('2011-06-02T17:00:00.000000000-0700') is not JSON serializable",
       "output_type": "pyerr",
       "traceback": [
        "\u001b[0;31m---------------------------------------------------------------------------\u001b[0m\n\u001b[0;31mTypeError\u001b[0m                                 Traceback (most recent call last)",
        "\u001b[0;32m<ipython-input-3-9c27736a3753>\u001b[0m in \u001b[0;36m<module>\u001b[0;34m()\u001b[0m\n\u001b[1;32m      1\u001b[0m test = (sticky.C3()\n\u001b[1;32m      2\u001b[0m               \u001b[0;34m.\u001b[0m\u001b[0mdata\u001b[0m\u001b[0;34m(\u001b[0m\u001b[0mmolten\u001b[0m\u001b[0;34m)\u001b[0m\u001b[0;34m\u001b[0m\u001b[0m\n\u001b[0;32m----> 3\u001b[0;31m               \u001b[0;34m.\u001b[0m\u001b[0mx\u001b[0m\u001b[0;34m(\u001b[0m\u001b[0;34m'Date & Time Stamp'\u001b[0m\u001b[0;34m,\u001b[0m \u001b[0mtimeseries\u001b[0m\u001b[0;34m=\u001b[0m\u001b[0mTrue\u001b[0m\u001b[0;34m)\u001b[0m\u001b[0;34m\u001b[0m\u001b[0m\n\u001b[0m\u001b[1;32m      4\u001b[0m               \u001b[0;34m.\u001b[0m\u001b[0my\u001b[0m\u001b[0;34m(\u001b[0m\u001b[0;34m'variable'\u001b[0m\u001b[0;34m)\u001b[0m\u001b[0;34m\u001b[0m\u001b[0m\n\u001b[1;32m      5\u001b[0m               \u001b[0;34m.\u001b[0m\u001b[0mline\u001b[0m\u001b[0;34m(\u001b[0m\u001b[0;34m'WS1_50mMean'\u001b[0m\u001b[0;34m,\u001b[0m \u001b[0;34m'WS2_50mMean'\u001b[0m\u001b[0;34m)\u001b[0m\u001b[0;34m\u001b[0m\u001b[0m\n",
        "\u001b[0;32m/Users/Rob/SRC/sticky/sticky/c3.py\u001b[0m in \u001b[0;36mx\u001b[0;34m(self, x, timeseries)\u001b[0m\n\u001b[1;32m     67\u001b[0m             \u001b[0mself\u001b[0m\u001b[0;34m.\u001b[0m\u001b[0mmodel_data\u001b[0m\u001b[0;34m.\u001b[0m\u001b[0mappend\u001b[0m\u001b[0;34m(\u001b[0m\u001b[0mv\u001b[0m\u001b[0;34m)\u001b[0m\u001b[0;34m\u001b[0m\u001b[0m\n\u001b[1;32m     68\u001b[0m         \u001b[0;32mimport\u001b[0m \u001b[0mipdb\u001b[0m\u001b[0;34m;\u001b[0m\u001b[0mipdb\u001b[0m\u001b[0;34m.\u001b[0m\u001b[0mset_trace\u001b[0m\u001b[0;34m(\u001b[0m\u001b[0;34m)\u001b[0m\u001b[0;34m\u001b[0m\u001b[0m\n\u001b[0;32m---> 69\u001b[0;31m         \u001b[0mself\u001b[0m\u001b[0;34m.\u001b[0m\u001b[0mmodel_x\u001b[0m \u001b[0;34m=\u001b[0m \u001b[0mx\u001b[0m\u001b[0;34m\u001b[0m\u001b[0m\n\u001b[0m\u001b[1;32m     70\u001b[0m         \u001b[0;32mif\u001b[0m \u001b[0mtimeseries\u001b[0m\u001b[0;34m:\u001b[0m\u001b[0;34m\u001b[0m\u001b[0m\n\u001b[1;32m     71\u001b[0m             \u001b[0mself\u001b[0m\u001b[0;34m.\u001b[0m\u001b[0mmodel_x_axis_type\u001b[0m \u001b[0;34m=\u001b[0m \u001b[0;34m'timeseries'\u001b[0m\u001b[0;34m\u001b[0m\u001b[0m\n",
        "\u001b[0;32m/Users/Rob/SRC/pydatasv2014/.env/lib/python2.7/site-packages/IPython/utils/traitlets.pyc\u001b[0m in \u001b[0;36m__set__\u001b[0;34m(self, obj, value)\u001b[0m\n\u001b[1;32m    380\u001b[0m             \u001b[0;31m# we explicitly compare silent to True just in case the equality\u001b[0m\u001b[0;34m\u001b[0m\u001b[0;34m\u001b[0m\u001b[0m\n\u001b[1;32m    381\u001b[0m             \u001b[0;31m# comparison above returns something other than True/False\u001b[0m\u001b[0;34m\u001b[0m\u001b[0;34m\u001b[0m\u001b[0m\n\u001b[0;32m--> 382\u001b[0;31m             \u001b[0mobj\u001b[0m\u001b[0;34m.\u001b[0m\u001b[0m_notify_trait\u001b[0m\u001b[0;34m(\u001b[0m\u001b[0mself\u001b[0m\u001b[0;34m.\u001b[0m\u001b[0mname\u001b[0m\u001b[0;34m,\u001b[0m \u001b[0mold_value\u001b[0m\u001b[0;34m,\u001b[0m \u001b[0mnew_value\u001b[0m\u001b[0;34m)\u001b[0m\u001b[0;34m\u001b[0m\u001b[0m\n\u001b[0m\u001b[1;32m    383\u001b[0m \u001b[0;34m\u001b[0m\u001b[0m\n\u001b[1;32m    384\u001b[0m     \u001b[0;32mdef\u001b[0m \u001b[0m_validate\u001b[0m\u001b[0;34m(\u001b[0m\u001b[0mself\u001b[0m\u001b[0;34m,\u001b[0m \u001b[0mobj\u001b[0m\u001b[0;34m,\u001b[0m \u001b[0mvalue\u001b[0m\u001b[0;34m)\u001b[0m\u001b[0;34m:\u001b[0m\u001b[0;34m\u001b[0m\u001b[0m\n",
        "\u001b[0;32m/Users/Rob/SRC/pydatasv2014/.env/lib/python2.7/site-packages/IPython/utils/traitlets.pyc\u001b[0m in \u001b[0;36m_notify_trait\u001b[0;34m(self, name, old_value, new_value)\u001b[0m\n\u001b[1;32m    529\u001b[0m                     \u001b[0mc\u001b[0m\u001b[0;34m(\u001b[0m\u001b[0mname\u001b[0m\u001b[0;34m,\u001b[0m \u001b[0mnew_value\u001b[0m\u001b[0;34m)\u001b[0m\u001b[0;34m\u001b[0m\u001b[0m\n\u001b[1;32m    530\u001b[0m                 \u001b[0;32melif\u001b[0m \u001b[0mnargs\u001b[0m \u001b[0;34m+\u001b[0m \u001b[0moffset\u001b[0m \u001b[0;34m==\u001b[0m \u001b[0;36m3\u001b[0m\u001b[0;34m:\u001b[0m\u001b[0;34m\u001b[0m\u001b[0m\n\u001b[0;32m--> 531\u001b[0;31m                     \u001b[0mc\u001b[0m\u001b[0;34m(\u001b[0m\u001b[0mname\u001b[0m\u001b[0;34m,\u001b[0m \u001b[0mold_value\u001b[0m\u001b[0;34m,\u001b[0m \u001b[0mnew_value\u001b[0m\u001b[0;34m)\u001b[0m\u001b[0;34m\u001b[0m\u001b[0m\n\u001b[0m\u001b[1;32m    532\u001b[0m                 \u001b[0;32melse\u001b[0m\u001b[0;34m:\u001b[0m\u001b[0;34m\u001b[0m\u001b[0m\n\u001b[1;32m    533\u001b[0m                     raise TraitError('a trait changed callback '\n",
        "\u001b[0;32m/Users/Rob/SRC/pydatasv2014/.env/lib/python2.7/site-packages/IPython/html/widgets/widget.pyc\u001b[0m in \u001b[0;36m_handle_property_changed\u001b[0;34m(self, name, old, new)\u001b[0m\n\u001b[1;32m    294\u001b[0m         \u001b[0;32mif\u001b[0m \u001b[0mself\u001b[0m\u001b[0;34m.\u001b[0m\u001b[0m_should_send_property\u001b[0m\u001b[0;34m(\u001b[0m\u001b[0mname\u001b[0m\u001b[0;34m,\u001b[0m \u001b[0mnew\u001b[0m\u001b[0;34m)\u001b[0m\u001b[0;34m:\u001b[0m\u001b[0;34m\u001b[0m\u001b[0m\n\u001b[1;32m    295\u001b[0m             \u001b[0;31m# Send new state to front-end\u001b[0m\u001b[0;34m\u001b[0m\u001b[0;34m\u001b[0m\u001b[0m\n\u001b[0;32m--> 296\u001b[0;31m             \u001b[0mself\u001b[0m\u001b[0;34m.\u001b[0m\u001b[0msend_state\u001b[0m\u001b[0;34m(\u001b[0m\u001b[0mkey\u001b[0m\u001b[0;34m=\u001b[0m\u001b[0mname\u001b[0m\u001b[0;34m)\u001b[0m\u001b[0;34m\u001b[0m\u001b[0m\n\u001b[0m\u001b[1;32m    297\u001b[0m \u001b[0;34m\u001b[0m\u001b[0m\n\u001b[1;32m    298\u001b[0m     \u001b[0;32mdef\u001b[0m \u001b[0m_handle_displayed\u001b[0m\u001b[0;34m(\u001b[0m\u001b[0mself\u001b[0m\u001b[0;34m,\u001b[0m \u001b[0;34m**\u001b[0m\u001b[0mkwargs\u001b[0m\u001b[0;34m)\u001b[0m\u001b[0;34m:\u001b[0m\u001b[0;34m\u001b[0m\u001b[0m\n",
        "\u001b[0;32m/Users/Rob/SRC/pydatasv2014/.env/lib/python2.7/site-packages/IPython/html/widgets/widget.pyc\u001b[0m in \u001b[0;36msend_state\u001b[0;34m(self, key)\u001b[0m\n\u001b[1;32m    184\u001b[0m         self._send({\n\u001b[1;32m    185\u001b[0m             \u001b[0;34m\"method\"\u001b[0m \u001b[0;34m:\u001b[0m \u001b[0;34m\"update\"\u001b[0m\u001b[0;34m,\u001b[0m\u001b[0;34m\u001b[0m\u001b[0m\n\u001b[0;32m--> 186\u001b[0;31m             \u001b[0;34m\"state\"\u001b[0m  \u001b[0;34m:\u001b[0m \u001b[0mself\u001b[0m\u001b[0;34m.\u001b[0m\u001b[0mget_state\u001b[0m\u001b[0;34m(\u001b[0m\u001b[0;34m)\u001b[0m\u001b[0;34m\u001b[0m\u001b[0m\n\u001b[0m\u001b[1;32m    187\u001b[0m         })\n\u001b[1;32m    188\u001b[0m \u001b[0;34m\u001b[0m\u001b[0m\n",
        "\u001b[0;32m/Users/Rob/SRC/pydatasv2014/.env/lib/python2.7/site-packages/IPython/html/widgets/widget.pyc\u001b[0m in \u001b[0;36m_send\u001b[0;34m(self, msg)\u001b[0m\n\u001b[1;32m    337\u001b[0m     \u001b[0;32mdef\u001b[0m \u001b[0m_send\u001b[0m\u001b[0;34m(\u001b[0m\u001b[0mself\u001b[0m\u001b[0;34m,\u001b[0m \u001b[0mmsg\u001b[0m\u001b[0;34m)\u001b[0m\u001b[0;34m:\u001b[0m\u001b[0;34m\u001b[0m\u001b[0m\n\u001b[1;32m    338\u001b[0m         \u001b[0;34m\"\"\"Sends a message to the model in the front-end.\"\"\"\u001b[0m\u001b[0;34m\u001b[0m\u001b[0m\n\u001b[0;32m--> 339\u001b[0;31m         \u001b[0mself\u001b[0m\u001b[0;34m.\u001b[0m\u001b[0mcomm\u001b[0m\u001b[0;34m.\u001b[0m\u001b[0msend\u001b[0m\u001b[0;34m(\u001b[0m\u001b[0mmsg\u001b[0m\u001b[0;34m)\u001b[0m\u001b[0;34m\u001b[0m\u001b[0m\n\u001b[0m\u001b[1;32m    340\u001b[0m \u001b[0;34m\u001b[0m\u001b[0m\n\u001b[1;32m    341\u001b[0m \u001b[0;34m\u001b[0m\u001b[0m\n",
        "\u001b[0;32m/Users/Rob/SRC/pydatasv2014/.env/lib/python2.7/site-packages/IPython/kernel/comm/comm.pyc\u001b[0m in \u001b[0;36msend\u001b[0;34m(self, data, metadata)\u001b[0m\n\u001b[1;32m    101\u001b[0m     \u001b[0;32mdef\u001b[0m \u001b[0msend\u001b[0m\u001b[0;34m(\u001b[0m\u001b[0mself\u001b[0m\u001b[0;34m,\u001b[0m \u001b[0mdata\u001b[0m\u001b[0;34m=\u001b[0m\u001b[0mNone\u001b[0m\u001b[0;34m,\u001b[0m \u001b[0mmetadata\u001b[0m\u001b[0;34m=\u001b[0m\u001b[0mNone\u001b[0m\u001b[0;34m)\u001b[0m\u001b[0;34m:\u001b[0m\u001b[0;34m\u001b[0m\u001b[0m\n\u001b[1;32m    102\u001b[0m         \u001b[0;34m\"\"\"Send a message to the frontend-side version of this comm\"\"\"\u001b[0m\u001b[0;34m\u001b[0m\u001b[0m\n\u001b[0;32m--> 103\u001b[0;31m         \u001b[0mself\u001b[0m\u001b[0;34m.\u001b[0m\u001b[0m_publish_msg\u001b[0m\u001b[0;34m(\u001b[0m\u001b[0;34m'comm_msg'\u001b[0m\u001b[0;34m,\u001b[0m \u001b[0mdata\u001b[0m\u001b[0;34m,\u001b[0m \u001b[0mmetadata\u001b[0m\u001b[0;34m)\u001b[0m\u001b[0;34m\u001b[0m\u001b[0m\n\u001b[0m\u001b[1;32m    104\u001b[0m \u001b[0;34m\u001b[0m\u001b[0m\n\u001b[1;32m    105\u001b[0m     \u001b[0;31m# registering callbacks\u001b[0m\u001b[0;34m\u001b[0m\u001b[0;34m\u001b[0m\u001b[0m\n",
        "\u001b[0;32m/Users/Rob/SRC/pydatasv2014/.env/lib/python2.7/site-packages/IPython/kernel/comm/comm.pyc\u001b[0m in \u001b[0;36m_publish_msg\u001b[0;34m(self, msg_type, data, metadata, **keys)\u001b[0m\n\u001b[1;32m     74\u001b[0m             \u001b[0mmetadata\u001b[0m\u001b[0;34m=\u001b[0m\u001b[0mmetadata\u001b[0m\u001b[0;34m,\u001b[0m\u001b[0;34m\u001b[0m\u001b[0m\n\u001b[1;32m     75\u001b[0m             \u001b[0mparent\u001b[0m\u001b[0;34m=\u001b[0m\u001b[0mself\u001b[0m\u001b[0;34m.\u001b[0m\u001b[0mshell\u001b[0m\u001b[0;34m.\u001b[0m\u001b[0mget_parent\u001b[0m\u001b[0;34m(\u001b[0m\u001b[0;34m)\u001b[0m\u001b[0;34m,\u001b[0m\u001b[0;34m\u001b[0m\u001b[0m\n\u001b[0;32m---> 76\u001b[0;31m             \u001b[0mident\u001b[0m\u001b[0;34m=\u001b[0m\u001b[0mself\u001b[0m\u001b[0;34m.\u001b[0m\u001b[0mtopic\u001b[0m\u001b[0;34m,\u001b[0m\u001b[0;34m\u001b[0m\u001b[0m\n\u001b[0m\u001b[1;32m     77\u001b[0m         )\n\u001b[1;32m     78\u001b[0m \u001b[0;34m\u001b[0m\u001b[0m\n",
        "\u001b[0;32m/Users/Rob/SRC/pydatasv2014/.env/lib/python2.7/site-packages/IPython/kernel/zmq/session.pyc\u001b[0m in \u001b[0;36msend\u001b[0;34m(self, stream, msg_or_type, content, parent, ident, buffers, track, header, metadata)\u001b[0m\n\u001b[1;32m    633\u001b[0m             \u001b[0;32mreturn\u001b[0m\u001b[0;34m\u001b[0m\u001b[0m\n\u001b[1;32m    634\u001b[0m         \u001b[0mbuffers\u001b[0m \u001b[0;34m=\u001b[0m \u001b[0;34m[\u001b[0m\u001b[0;34m]\u001b[0m \u001b[0;32mif\u001b[0m \u001b[0mbuffers\u001b[0m \u001b[0;32mis\u001b[0m \u001b[0mNone\u001b[0m \u001b[0;32melse\u001b[0m \u001b[0mbuffers\u001b[0m\u001b[0;34m\u001b[0m\u001b[0m\n\u001b[0;32m--> 635\u001b[0;31m         \u001b[0mto_send\u001b[0m \u001b[0;34m=\u001b[0m \u001b[0mself\u001b[0m\u001b[0;34m.\u001b[0m\u001b[0mserialize\u001b[0m\u001b[0;34m(\u001b[0m\u001b[0mmsg\u001b[0m\u001b[0;34m,\u001b[0m \u001b[0mident\u001b[0m\u001b[0;34m)\u001b[0m\u001b[0;34m\u001b[0m\u001b[0m\n\u001b[0m\u001b[1;32m    636\u001b[0m         \u001b[0mto_send\u001b[0m\u001b[0;34m.\u001b[0m\u001b[0mextend\u001b[0m\u001b[0;34m(\u001b[0m\u001b[0mbuffers\u001b[0m\u001b[0;34m)\u001b[0m\u001b[0;34m\u001b[0m\u001b[0m\n\u001b[1;32m    637\u001b[0m         \u001b[0mlongest\u001b[0m \u001b[0;34m=\u001b[0m \u001b[0mmax\u001b[0m\u001b[0;34m(\u001b[0m\u001b[0;34m[\u001b[0m \u001b[0mlen\u001b[0m\u001b[0;34m(\u001b[0m\u001b[0ms\u001b[0m\u001b[0;34m)\u001b[0m \u001b[0;32mfor\u001b[0m \u001b[0ms\u001b[0m \u001b[0;32min\u001b[0m \u001b[0mto_send\u001b[0m \u001b[0;34m]\u001b[0m\u001b[0;34m)\u001b[0m\u001b[0;34m\u001b[0m\u001b[0m\n",
        "\u001b[0;32m/Users/Rob/SRC/pydatasv2014/.env/lib/python2.7/site-packages/IPython/kernel/zmq/session.pyc\u001b[0m in \u001b[0;36mserialize\u001b[0;34m(self, msg, ident)\u001b[0m\n\u001b[1;32m    540\u001b[0m             \u001b[0mcontent\u001b[0m \u001b[0;34m=\u001b[0m \u001b[0mself\u001b[0m\u001b[0;34m.\u001b[0m\u001b[0mnone\u001b[0m\u001b[0;34m\u001b[0m\u001b[0m\n\u001b[1;32m    541\u001b[0m         \u001b[0;32melif\u001b[0m \u001b[0misinstance\u001b[0m\u001b[0;34m(\u001b[0m\u001b[0mcontent\u001b[0m\u001b[0;34m,\u001b[0m \u001b[0mdict\u001b[0m\u001b[0;34m)\u001b[0m\u001b[0;34m:\u001b[0m\u001b[0;34m\u001b[0m\u001b[0m\n\u001b[0;32m--> 542\u001b[0;31m             \u001b[0mcontent\u001b[0m \u001b[0;34m=\u001b[0m \u001b[0mself\u001b[0m\u001b[0;34m.\u001b[0m\u001b[0mpack\u001b[0m\u001b[0;34m(\u001b[0m\u001b[0mcontent\u001b[0m\u001b[0;34m)\u001b[0m\u001b[0;34m\u001b[0m\u001b[0m\n\u001b[0m\u001b[1;32m    543\u001b[0m         \u001b[0;32melif\u001b[0m \u001b[0misinstance\u001b[0m\u001b[0;34m(\u001b[0m\u001b[0mcontent\u001b[0m\u001b[0;34m,\u001b[0m \u001b[0mbytes\u001b[0m\u001b[0;34m)\u001b[0m\u001b[0;34m:\u001b[0m\u001b[0;34m\u001b[0m\u001b[0m\n\u001b[1;32m    544\u001b[0m             \u001b[0;31m# content is already packed, as in a relayed message\u001b[0m\u001b[0;34m\u001b[0m\u001b[0;34m\u001b[0m\u001b[0m\n",
        "\u001b[0;32m/Users/Rob/SRC/pydatasv2014/.env/lib/python2.7/site-packages/IPython/kernel/zmq/session.pyc\u001b[0m in \u001b[0;36m<lambda>\u001b[0;34m(obj)\u001b[0m\n\u001b[1;32m     81\u001b[0m \u001b[0;34m\u001b[0m\u001b[0m\n\u001b[1;32m     82\u001b[0m \u001b[0;31m# ISO8601-ify datetime objects\u001b[0m\u001b[0;34m\u001b[0m\u001b[0;34m\u001b[0m\u001b[0m\n\u001b[0;32m---> 83\u001b[0;31m \u001b[0mjson_packer\u001b[0m \u001b[0;34m=\u001b[0m \u001b[0;32mlambda\u001b[0m \u001b[0mobj\u001b[0m\u001b[0;34m:\u001b[0m \u001b[0mjsonapi\u001b[0m\u001b[0;34m.\u001b[0m\u001b[0mdumps\u001b[0m\u001b[0;34m(\u001b[0m\u001b[0mobj\u001b[0m\u001b[0;34m,\u001b[0m \u001b[0mdefault\u001b[0m\u001b[0;34m=\u001b[0m\u001b[0mdate_default\u001b[0m\u001b[0;34m)\u001b[0m\u001b[0;34m\u001b[0m\u001b[0m\n\u001b[0m\u001b[1;32m     84\u001b[0m \u001b[0mjson_unpacker\u001b[0m \u001b[0;34m=\u001b[0m \u001b[0;32mlambda\u001b[0m \u001b[0ms\u001b[0m\u001b[0;34m:\u001b[0m \u001b[0mjsonapi\u001b[0m\u001b[0;34m.\u001b[0m\u001b[0mloads\u001b[0m\u001b[0;34m(\u001b[0m\u001b[0ms\u001b[0m\u001b[0;34m)\u001b[0m\u001b[0;34m\u001b[0m\u001b[0m\n\u001b[1;32m     85\u001b[0m \u001b[0;34m\u001b[0m\u001b[0m\n",
        "\u001b[0;32m/Users/Rob/SRC/pydatasv2014/.env/lib/python2.7/site-packages/zmq/utils/jsonapi.pyc\u001b[0m in \u001b[0;36mdumps\u001b[0;34m(o, **kwargs)\u001b[0m\n\u001b[1;32m     53\u001b[0m         \u001b[0mkwargs\u001b[0m\u001b[0;34m[\u001b[0m\u001b[0;34m'separators'\u001b[0m\u001b[0;34m]\u001b[0m \u001b[0;34m=\u001b[0m \u001b[0;34m(\u001b[0m\u001b[0;34m','\u001b[0m\u001b[0;34m,\u001b[0m \u001b[0;34m':'\u001b[0m\u001b[0;34m)\u001b[0m\u001b[0;34m\u001b[0m\u001b[0m\n\u001b[1;32m     54\u001b[0m \u001b[0;34m\u001b[0m\u001b[0m\n\u001b[0;32m---> 55\u001b[0;31m     \u001b[0ms\u001b[0m \u001b[0;34m=\u001b[0m \u001b[0mjsonmod\u001b[0m\u001b[0;34m.\u001b[0m\u001b[0mdumps\u001b[0m\u001b[0;34m(\u001b[0m\u001b[0mo\u001b[0m\u001b[0;34m,\u001b[0m \u001b[0;34m**\u001b[0m\u001b[0mkwargs\u001b[0m\u001b[0;34m)\u001b[0m\u001b[0;34m\u001b[0m\u001b[0m\n\u001b[0m\u001b[1;32m     56\u001b[0m \u001b[0;34m\u001b[0m\u001b[0m\n\u001b[1;32m     57\u001b[0m     \u001b[0;32mif\u001b[0m \u001b[0misinstance\u001b[0m\u001b[0;34m(\u001b[0m\u001b[0ms\u001b[0m\u001b[0;34m,\u001b[0m \u001b[0municode\u001b[0m\u001b[0;34m)\u001b[0m\u001b[0;34m:\u001b[0m\u001b[0;34m\u001b[0m\u001b[0m\n",
        "\u001b[0;32m/usr/local/Cellar/python/2.7.6/Frameworks/Python.framework/Versions/2.7/lib/python2.7/json/__init__.pyc\u001b[0m in \u001b[0;36mdumps\u001b[0;34m(obj, skipkeys, ensure_ascii, check_circular, allow_nan, cls, indent, separators, encoding, default, sort_keys, **kw)\u001b[0m\n\u001b[1;32m    248\u001b[0m         \u001b[0mcheck_circular\u001b[0m\u001b[0;34m=\u001b[0m\u001b[0mcheck_circular\u001b[0m\u001b[0;34m,\u001b[0m \u001b[0mallow_nan\u001b[0m\u001b[0;34m=\u001b[0m\u001b[0mallow_nan\u001b[0m\u001b[0;34m,\u001b[0m \u001b[0mindent\u001b[0m\u001b[0;34m=\u001b[0m\u001b[0mindent\u001b[0m\u001b[0;34m,\u001b[0m\u001b[0;34m\u001b[0m\u001b[0m\n\u001b[1;32m    249\u001b[0m         \u001b[0mseparators\u001b[0m\u001b[0;34m=\u001b[0m\u001b[0mseparators\u001b[0m\u001b[0;34m,\u001b[0m \u001b[0mencoding\u001b[0m\u001b[0;34m=\u001b[0m\u001b[0mencoding\u001b[0m\u001b[0;34m,\u001b[0m \u001b[0mdefault\u001b[0m\u001b[0;34m=\u001b[0m\u001b[0mdefault\u001b[0m\u001b[0;34m,\u001b[0m\u001b[0;34m\u001b[0m\u001b[0m\n\u001b[0;32m--> 250\u001b[0;31m         sort_keys=sort_keys, **kw).encode(obj)\n\u001b[0m\u001b[1;32m    251\u001b[0m \u001b[0;34m\u001b[0m\u001b[0m\n\u001b[1;32m    252\u001b[0m \u001b[0;34m\u001b[0m\u001b[0m\n",
        "\u001b[0;32m/usr/local/Cellar/python/2.7.6/Frameworks/Python.framework/Versions/2.7/lib/python2.7/json/encoder.pyc\u001b[0m in \u001b[0;36mencode\u001b[0;34m(self, o)\u001b[0m\n\u001b[1;32m    205\u001b[0m         \u001b[0;31m# exceptions aren't as detailed.  The list call should be roughly\u001b[0m\u001b[0;34m\u001b[0m\u001b[0;34m\u001b[0m\u001b[0m\n\u001b[1;32m    206\u001b[0m         \u001b[0;31m# equivalent to the PySequence_Fast that ''.join() would do.\u001b[0m\u001b[0;34m\u001b[0m\u001b[0;34m\u001b[0m\u001b[0m\n\u001b[0;32m--> 207\u001b[0;31m         \u001b[0mchunks\u001b[0m \u001b[0;34m=\u001b[0m \u001b[0mself\u001b[0m\u001b[0;34m.\u001b[0m\u001b[0miterencode\u001b[0m\u001b[0;34m(\u001b[0m\u001b[0mo\u001b[0m\u001b[0;34m,\u001b[0m \u001b[0m_one_shot\u001b[0m\u001b[0;34m=\u001b[0m\u001b[0mTrue\u001b[0m\u001b[0;34m)\u001b[0m\u001b[0;34m\u001b[0m\u001b[0m\n\u001b[0m\u001b[1;32m    208\u001b[0m         \u001b[0;32mif\u001b[0m \u001b[0;32mnot\u001b[0m \u001b[0misinstance\u001b[0m\u001b[0;34m(\u001b[0m\u001b[0mchunks\u001b[0m\u001b[0;34m,\u001b[0m \u001b[0;34m(\u001b[0m\u001b[0mlist\u001b[0m\u001b[0;34m,\u001b[0m \u001b[0mtuple\u001b[0m\u001b[0;34m)\u001b[0m\u001b[0;34m)\u001b[0m\u001b[0;34m:\u001b[0m\u001b[0;34m\u001b[0m\u001b[0m\n\u001b[1;32m    209\u001b[0m             \u001b[0mchunks\u001b[0m \u001b[0;34m=\u001b[0m \u001b[0mlist\u001b[0m\u001b[0;34m(\u001b[0m\u001b[0mchunks\u001b[0m\u001b[0;34m)\u001b[0m\u001b[0;34m\u001b[0m\u001b[0m\n",
        "\u001b[0;32m/usr/local/Cellar/python/2.7.6/Frameworks/Python.framework/Versions/2.7/lib/python2.7/json/encoder.pyc\u001b[0m in \u001b[0;36miterencode\u001b[0;34m(self, o, _one_shot)\u001b[0m\n\u001b[1;32m    268\u001b[0m                 \u001b[0mself\u001b[0m\u001b[0;34m.\u001b[0m\u001b[0mkey_separator\u001b[0m\u001b[0;34m,\u001b[0m \u001b[0mself\u001b[0m\u001b[0;34m.\u001b[0m\u001b[0mitem_separator\u001b[0m\u001b[0;34m,\u001b[0m \u001b[0mself\u001b[0m\u001b[0;34m.\u001b[0m\u001b[0msort_keys\u001b[0m\u001b[0;34m,\u001b[0m\u001b[0;34m\u001b[0m\u001b[0m\n\u001b[1;32m    269\u001b[0m                 self.skipkeys, _one_shot)\n\u001b[0;32m--> 270\u001b[0;31m         \u001b[0;32mreturn\u001b[0m \u001b[0m_iterencode\u001b[0m\u001b[0;34m(\u001b[0m\u001b[0mo\u001b[0m\u001b[0;34m,\u001b[0m \u001b[0;36m0\u001b[0m\u001b[0;34m)\u001b[0m\u001b[0;34m\u001b[0m\u001b[0m\n\u001b[0m\u001b[1;32m    271\u001b[0m \u001b[0;34m\u001b[0m\u001b[0m\n\u001b[1;32m    272\u001b[0m def _make_iterencode(markers, _default, _encoder, _indent, _floatstr,\n",
        "\u001b[0;32m/Users/Rob/SRC/pydatasv2014/.env/lib/python2.7/site-packages/IPython/utils/jsonutil.pyc\u001b[0m in \u001b[0;36mdate_default\u001b[0;34m(obj)\u001b[0m\n\u001b[1;32m    117\u001b[0m         \u001b[0;32mreturn\u001b[0m \u001b[0mobj\u001b[0m\u001b[0;34m.\u001b[0m\u001b[0misoformat\u001b[0m\u001b[0;34m(\u001b[0m\u001b[0;34m)\u001b[0m\u001b[0;34m\u001b[0m\u001b[0m\n\u001b[1;32m    118\u001b[0m     \u001b[0;32melse\u001b[0m\u001b[0;34m:\u001b[0m\u001b[0;34m\u001b[0m\u001b[0m\n\u001b[0;32m--> 119\u001b[0;31m         \u001b[0;32mraise\u001b[0m \u001b[0mTypeError\u001b[0m\u001b[0;34m(\u001b[0m\u001b[0;34m\"%r is not JSON serializable\"\u001b[0m\u001b[0;34m%\u001b[0m\u001b[0mobj\u001b[0m\u001b[0;34m)\u001b[0m\u001b[0;34m\u001b[0m\u001b[0m\n\u001b[0m\u001b[1;32m    120\u001b[0m \u001b[0;34m\u001b[0m\u001b[0m\n\u001b[1;32m    121\u001b[0m \u001b[0;34m\u001b[0m\u001b[0m\n",
        "\u001b[0;31mTypeError\u001b[0m: numpy.datetime64('2011-06-02T17:00:00.000000000-0700') is not JSON serializable"
       ]
      }
     ],
     "prompt_number": 3
    },
    {
     "cell_type": "code",
     "collapsed": false,
     "input": [],
     "language": "python",
     "metadata": {},
     "outputs": []
    }
   ],
   "metadata": {}
  }
 ]
}