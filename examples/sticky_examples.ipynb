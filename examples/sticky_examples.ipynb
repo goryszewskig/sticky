{
 "metadata": {
  "name": "",
  "signature": "sha256:9230cc0c951e88011825527d0a1fb8ca64117885956715ee24cdf58f7eaa645a"
 },
 "nbformat": 3,
 "nbformat_minor": 0,
 "worksheets": [
  {
   "cells": [
    {
     "cell_type": "code",
     "collapsed": false,
     "input": [
      "import sticky\n",
      "from IPython.core.display import display, Javascript\n",
      "from IPython.html.widgets import interact\n",
      "\n",
      "sticky.initialize_notebook()"
     ],
     "language": "python",
     "metadata": {},
     "outputs": [
      {
       "html": [
        "<script>\n",
        "\n",
        " function load_sticky_libs(){\n",
        "    console.log('Loading Sticky libraries...')\n",
        "    libs = {\n",
        "      'd3plus': 'http://wrobstory.github.io/d3plus/d3plus.js',\n",
        "      'micropolar': 'https://wrobstory.github.io/micropolar/micropolar.js'\n",
        "    }\n",
        "    lib_names = Object.keys(libs)\n",
        "    for (var i=0; i < lib_names.length; i++){\n",
        "      lib_name = lib_names[i];\n",
        "      if (window[lib_name] === undefined){\n",
        "        function getscript(lib_name){\n",
        "          $.getScript(libs[lib_name], function(){\n",
        "            console.log(lib_name + \" loaded...\")\n",
        "        })};\n",
        "        getscript(lib_name)\n",
        "      }\n",
        "    }\n",
        "  };\n",
        "\n",
        " if(typeof define === \"function\" && define.amd){\n",
        "      var load_paths = {\n",
        "        paths: {\n",
        "          d3: 'http://d3js.org/d3.v3.min'\n",
        "        }\n",
        "      };\n",
        "      var libs = ['d3'];\n",
        "      for (var i=0; i < libs.length; i++){\n",
        "        lib = libs[i]\n",
        "        if (window[lib] !== undefined){\n",
        "          delete load_paths.paths[lib]\n",
        "        };\n",
        "      };\n",
        "      if (Object.keys(load_paths.paths).length != 0){\n",
        "        require.config(load_paths);\n",
        "        require([\"d3\"], function(d3){\n",
        "            console.log('D3 Loaded...')\n",
        "            window.d3 = d3;\n",
        "            load_sticky_libs();\n",
        "        });\n",
        "      } else {\n",
        "          load_sticky_libs();\n",
        "      };\n",
        "\n",
        " }else{\n",
        "      console.log('Require.js not found!');\n",
        "      throw \"Require.js not found!\"\n",
        " };\n",
        "\n",
        "</script>"
       ],
       "metadata": {},
       "output_type": "display_data",
       "text": [
        "<IPython.core.display.HTML at 0x110dfeed0>"
       ]
      }
     ],
     "prompt_number": 7
    },
    {
     "cell_type": "code",
     "collapsed": false,
     "input": [
      "mic = sticky.Micropolar()\n",
      "def change_dims(width=125, height=125):\n",
      "    mic.height = 125\n",
      "    mic.width = 125\n",
      "    mic.send_state()\n",
      "    mic.plot()\n",
      "interact(change_dims, width=250, height=250)"
     ],
     "language": "python",
     "metadata": {},
     "outputs": [
      {
       "output_type": "stream",
       "stream": "stdout",
       "text": [
        "\r"
       ]
      },
      {
       "output_type": "stream",
       "stream": "stderr",
       "text": [
        "\r"
       ]
      }
     ],
     "prompt_number": 7
    },
    {
     "cell_type": "code",
     "collapsed": false,
     "input": [
      "plus = sticky.d3Plus()\n",
      "plus.plot()\n",
      "@interact\n",
      "def change_dims(width=600, height=600):\n",
      "    plus.update(width=width, height=height)"
     ],
     "language": "python",
     "metadata": {},
     "outputs": [
      {
       "output_type": "stream",
       "stream": "stdout",
       "text": [
        "\r"
       ]
      },
      {
       "output_type": "stream",
       "stream": "stderr",
       "text": [
        "\r"
       ]
      }
     ],
     "prompt_number": 10
    },
    {
     "cell_type": "code",
     "collapsed": false,
     "input": [],
     "language": "python",
     "metadata": {},
     "outputs": [],
     "prompt_number": 5
    },
    {
     "cell_type": "code",
     "collapsed": false,
     "input": [],
     "language": "python",
     "metadata": {},
     "outputs": []
    }
   ],
   "metadata": {}
  }
 ]
}