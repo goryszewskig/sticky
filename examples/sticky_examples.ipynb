{
 "metadata": {
  "name": "",
  "signature": "sha256:a901023f162fda56b557727939715223a741b07e296ba9db3d9d4f7b78e1984f"
 },
 "nbformat": 3,
 "nbformat_minor": 0,
 "worksheets": [
  {
   "cells": [
    {
     "cell_type": "code",
     "collapsed": false,
     "input": [
      "import sticky\n",
      "from IPython.core.display import display, Javascript\n",
      "\n",
      "sticky.initialize_notebook()"
     ],
     "language": "python",
     "metadata": {},
     "outputs": [
      {
       "html": [
        "<script>\n",
        "\n",
        " function load_sticky_libs(){\n",
        "    console.log('Loading Sticky libraries...')\n",
        "    $.getScript('https://wrobstory.github.io/micropolar/micropolar.js', function(){\n",
        "      console.log('micropolar loaded...')\n",
        "    })\n",
        "  };\n",
        "\n",
        " if(typeof define === \"function\" && define.amd){\n",
        "      var load_paths = {\n",
        "        paths: {\n",
        "          d3: 'http://d3js.org/d3.v3.min'\n",
        "        }\n",
        "      };\n",
        "      var libs = ['d3'];\n",
        "      for (var i=0; i < libs.length; i++){\n",
        "        lib = libs[i]\n",
        "        if (window[lib] !== undefined){\n",
        "          delete load_paths.paths[lib]\n",
        "        };\n",
        "      };\n",
        "      if (Object.keys(load_paths.paths).length != 0){\n",
        "        require.config(load_paths);\n",
        "        require([\"d3\"], function(d3){\n",
        "            console.log('D3 Loaded...')\n",
        "            window.d3 = d3;\n",
        "            load_sticky_libs();\n",
        "        });\n",
        "      }\n",
        "\n",
        " }else{\n",
        "      console.log('Require.js not found!');\n",
        "      throw \"Require.js not found!\"\n",
        " };\n",
        "\n",
        "</script>"
       ],
       "metadata": {},
       "output_type": "display_data",
       "text": [
        "<IPython.core.display.HTML at 0x10689ac10>"
       ]
      }
     ],
     "prompt_number": 5
    },
    {
     "cell_type": "code",
     "collapsed": false,
     "input": [
      "mic = sticky.Micropolar()\n",
      "mic.plot()"
     ],
     "language": "python",
     "metadata": {},
     "outputs": [
      {
       "javascript": [
        "//Micropolar Library DOM Creator and Renderer\n",
        "\n",
        "require([\"widgets/js/widget\"], function(WidgetManager){\n",
        "\n",
        "    // Define the DOM Cration View For Micropolar\n",
        "    var MicropolarDOM = IPython.DOMWidgetView.extend({\n",
        "        render: function(){\n",
        "            debugger\n",
        "            var chart_id = this.model.get('chart_id');\n",
        "            var chart_elm = '<div class=\"' + chart_id + '\"></div>';\n",
        "            $(chart_elm).appendTo(this.$el);\n",
        "        },\n",
        "    });\n",
        "    // Register the DOM Renderer with the Widget Manager\n",
        "    WidgetManager.register_widget_view('MicropolarDOM', MicropolarDOM);\n",
        "});\n",
        "\n",
        "require([\"widgets/js/widget\"], function(WidgetManager){\n",
        "\n",
        "    // Define the DOM Rendering View\n",
        "    var MicropolarRender = IPython.DOMWidgetView.extend({\n",
        "        render: function(){\n",
        "              debugger\n",
        "              var chart_id = '.' + this.model.get('chart_id');\n",
        "              var polarPlot = micropolar.DotPlot();\n",
        "                var config = {\n",
        "                    geometry: polarPlot,\n",
        "                    data: [[0, 500], [1, 1000], [3, 2000]],\n",
        "                    height: 250,\n",
        "                    width: 250,\n",
        "                    angularDomain: [0, 2000],\n",
        "                    angularTicksStep: 400,\n",
        "                    minorTicks: 1,\n",
        "                    flip: false,\n",
        "                    originTheta: 0,\n",
        "                    radialAxisTheta: -15,\n",
        "                    containerSelector: chart_id\n",
        "                };\n",
        "                var polarAxis = micropolar.Axis().config(config);\n",
        "                polarAxis();\n",
        "        }\n",
        "    });\n",
        "    // Register the DOM Rendering View\n",
        "    WidgetManager.register_widget_view('Micropolar', MicropolarRender);\n",
        "});"
       ],
       "metadata": {},
       "output_type": "display_data",
       "text": [
        "<IPython.core.display.Javascript at 0x10689af10>"
       ]
      }
     ],
     "prompt_number": 9
    },
    {
     "cell_type": "code",
     "collapsed": false,
     "input": [],
     "language": "python",
     "metadata": {},
     "outputs": [],
     "prompt_number": 6
    },
    {
     "cell_type": "code",
     "collapsed": false,
     "input": [],
     "language": "python",
     "metadata": {},
     "outputs": []
    }
   ],
   "metadata": {}
  }
 ]
}