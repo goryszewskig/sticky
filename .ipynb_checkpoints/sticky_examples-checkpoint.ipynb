{
 "metadata": {
  "name": "",
  "signature": "sha256:1772d84036e483284ef23c3c6f82e8a3e746bea7fcd4c1191609a0c52ca641e7"
 },
 "nbformat": 3,
 "nbformat_minor": 0,
 "worksheets": [
  {
   "cells": [
    {
     "cell_type": "code",
     "collapsed": false,
     "input": [
      "import sticky\n",
      "import pandas as pd\n",
      "from IPython.core.display import display, Javascript\n",
      "from IPython.html.widgets import interact\n",
      "\n",
      "sticky.initialize_notebook()"
     ],
     "language": "python",
     "metadata": {},
     "outputs": [
      {
       "html": [
        "<script>\n",
        "\n",
        " function load_sticky_libs(){\n",
        "    console.log('Loading Sticky libraries...')\n",
        "    libs = {\n",
        "      'd3plus': 'http://wrobstory.github.io/d3plus/d3plus.js',\n",
        "      'micropolar': 'https://wrobstory.github.io/micropolar/micropolar.js'\n",
        "    }\n",
        "    lib_names = Object.keys(libs)\n",
        "    for (var i=0; i < lib_names.length; i++){\n",
        "      lib_name = lib_names[i];\n",
        "      if (window[lib_name] === undefined){\n",
        "        function getscript(lib_name){\n",
        "          $.getScript(libs[lib_name], function(){\n",
        "            console.log(lib_name + \" loaded...\")\n",
        "        })};\n",
        "        getscript(lib_name)\n",
        "      }\n",
        "    }\n",
        "  };\n",
        "\n",
        " if(typeof define === \"function\" && define.amd){\n",
        "      var load_paths = {\n",
        "        paths: {\n",
        "          d3: 'http://d3js.org/d3.v3.min'\n",
        "        }\n",
        "      };\n",
        "      var libs = ['d3'];\n",
        "      for (var i=0; i < libs.length; i++){\n",
        "        lib = libs[i]\n",
        "        if (window[lib] !== undefined){\n",
        "          delete load_paths.paths[lib]\n",
        "        };\n",
        "      };\n",
        "      if (Object.keys(load_paths.paths).length != 0){\n",
        "        require.config(load_paths);\n",
        "        require([\"d3\"], function(d3){\n",
        "            console.log('D3 Loaded...')\n",
        "            window.d3 = d3;\n",
        "            load_sticky_libs();\n",
        "        });\n",
        "      } else {\n",
        "          load_sticky_libs();\n",
        "      };\n",
        "\n",
        " }else{\n",
        "      console.log('Require.js not found!');\n",
        "      throw \"Require.js not found!\"\n",
        " };\n",
        "\n",
        "</script>"
       ],
       "metadata": {},
       "output_type": "display_data",
       "text": [
        "<IPython.core.display.HTML at 0x1100915d0>"
       ]
      }
     ],
     "prompt_number": 1
    },
    {
     "cell_type": "code",
     "collapsed": false,
     "input": [
      "mic = sticky.Micropolar(height=250, width=250)\n",
      "mic.plot()"
     ],
     "language": "python",
     "metadata": {},
     "outputs": [
      {
       "javascript": [
        "require([\"widgets/js/widget\"], function(WidgetManager){\n",
        "\n",
        "    // Define the DOM Creation view for Sticky charts\n",
        "    var StickyDOMWidget = IPython.DOMWidgetView.extend({\n",
        "        render: function(){\n",
        "            var chart_id = this.model.get('chart_id');\n",
        "            var chart_elm = '<div class=\"' + chart_id + '\"></div>';\n",
        "            $(chart_elm).appendTo(this.$el);\n",
        "        },\n",
        "    });\n",
        "    // Register the DOM Renderer with the Widget Manager\n",
        "    WidgetManager.register_widget_view('StickyDOMWidget', StickyDOMWidget);\n",
        "});"
       ],
       "metadata": {},
       "output_type": "display_data",
       "text": [
        "<IPython.core.display.Javascript at 0x10e6d2b90>"
       ]
      },
      {
       "javascript": [
        "//Micropolar Library DOM Creator and Renderer\n",
        "\n",
        "require([\"widgets/js/widget\"], function(WidgetManager){\n",
        "\n",
        "    // Define the DOM Cration View For Micropolar\n",
        "    var MicropolarDOM = IPython.DOMWidgetView.extend({\n",
        "        render: function(){\n",
        "            var chart_id = this.model.get('chart_id');\n",
        "            var chart_elm = '<div class=\"' + chart_id + '\"></div>';\n",
        "            $(chart_elm).appendTo(this.$el);\n",
        "        },\n",
        "    });\n",
        "    // Register the DOM Renderer with the Widget Manager\n",
        "    WidgetManager.register_widget_view('MicropolarDOM', MicropolarDOM);\n",
        "});\n",
        "\n",
        "require([\"widgets/js/widget\"], function(WidgetManager){\n",
        "\n",
        "    // Define the DOM Rendering View\n",
        "    var MicropolarRender = IPython.DOMWidgetView.extend({\n",
        "        render: function(){\n",
        "            var chart_id = '.' + this.model.get('chart_id');\n",
        "            var polarPlot = micropolar.DotPlot();\n",
        "            this.$plot_config = {\n",
        "                geometry: polarPlot,\n",
        "                data: [[0, 500], [1, 1000], [3, 2000]],\n",
        "                height: this.model.get('height'),\n",
        "                width: this.model.get('width'),\n",
        "                angularDomain: [0, 2000],\n",
        "                angularTicksStep: 400,\n",
        "                minorTicks: 1,\n",
        "                flip: false,\n",
        "                originTheta: 0,\n",
        "                radialAxisTheta: -15,\n",
        "                containerSelector: chart_id\n",
        "            };\n",
        "            this.$micropolar_chart = micropolar.Axis().config(this.$plot_config);\n",
        "            this.$micropolar_chart();\n",
        "        },\n",
        "\n",
        "        update: function(){\n",
        "            this.$plot_config.height = this.model.get('height');\n",
        "            this.$plot_config.width = this.model.get('width');\n",
        "            this.$micropolar_chart.config(this.$plot_config);\n",
        "            this.$micropolar_chart();\n",
        "            return MicropolarRender.__super__.update.apply(this);\n",
        "        }\n",
        "    });\n",
        "    // Register the DOM Rendering View\n",
        "    WidgetManager.register_widget_view('Micropolar', MicropolarRender);\n",
        "});"
       ],
       "metadata": {},
       "output_type": "display_data",
       "text": [
        "<IPython.core.display.Javascript at 0x110a51cd0>"
       ]
      },
      {
       "javascript": [
        "require([\"widgets/js/widget\"], function(WidgetManager){\n",
        "\n",
        "    // Define the DOM Creation view for Sticky charts\n",
        "    var StickyDOMWidget = IPython.DOMWidgetView.extend({\n",
        "        render: function(){\n",
        "            var chart_id = this.model.get('chart_id');\n",
        "            var chart_elm = '<div class=\"' + chart_id + '\"></div>';\n",
        "            $(chart_elm).appendTo(this.$el);\n",
        "        },\n",
        "    });\n",
        "    // Register the DOM Renderer with the Widget Manager\n",
        "    WidgetManager.register_widget_view('StickyDOMWidget', StickyDOMWidget);\n",
        "});"
       ],
       "metadata": {},
       "output_type": "display_data",
       "text": [
        "<IPython.core.display.Javascript at 0x110ab0490>"
       ]
      },
      {
       "javascript": [
        "//Micropolar Library DOM Creator and Renderer\n",
        "\n",
        "require([\"widgets/js/widget\"], function(WidgetManager){\n",
        "\n",
        "    // Define the DOM Cration View For Micropolar\n",
        "    var MicropolarDOM = IPython.DOMWidgetView.extend({\n",
        "        render: function(){\n",
        "            var chart_id = this.model.get('chart_id');\n",
        "            var chart_elm = '<div class=\"' + chart_id + '\"></div>';\n",
        "            $(chart_elm).appendTo(this.$el);\n",
        "        },\n",
        "    });\n",
        "    // Register the DOM Renderer with the Widget Manager\n",
        "    WidgetManager.register_widget_view('MicropolarDOM', MicropolarDOM);\n",
        "});\n",
        "\n",
        "require([\"widgets/js/widget\"], function(WidgetManager){\n",
        "\n",
        "    // Define the DOM Rendering View\n",
        "    var MicropolarRender = IPython.DOMWidgetView.extend({\n",
        "        render: function(){\n",
        "            var chart_id = '.' + this.model.get('chart_id');\n",
        "            var polarPlot = micropolar.DotPlot();\n",
        "            this.$plot_config = {\n",
        "                geometry: polarPlot,\n",
        "                data: [[0, 500], [1, 1000], [3, 2000]],\n",
        "                height: this.model.get('height'),\n",
        "                width: this.model.get('width'),\n",
        "                angularDomain: [0, 2000],\n",
        "                angularTicksStep: 400,\n",
        "                minorTicks: 1,\n",
        "                flip: false,\n",
        "                originTheta: 0,\n",
        "                radialAxisTheta: -15,\n",
        "                containerSelector: chart_id\n",
        "            };\n",
        "            this.$micropolar_chart = micropolar.Axis().config(this.$plot_config);\n",
        "            this.$micropolar_chart();\n",
        "        },\n",
        "\n",
        "        update: function(){\n",
        "            this.$plot_config.height = this.model.get('height');\n",
        "            this.$plot_config.width = this.model.get('width');\n",
        "            this.$micropolar_chart.config(this.$plot_config);\n",
        "            this.$micropolar_chart();\n",
        "            return MicropolarRender.__super__.update.apply(this);\n",
        "        }\n",
        "    });\n",
        "    // Register the DOM Rendering View\n",
        "    WidgetManager.register_widget_view('Micropolar', MicropolarRender);\n",
        "});"
       ],
       "metadata": {},
       "output_type": "display_data",
       "text": [
        "<IPython.core.display.Javascript at 0x110ab0650>"
       ]
      }
     ],
     "prompt_number": 8
    },
    {
     "cell_type": "code",
     "collapsed": false,
     "input": [
      "dat = {\n",
      "'test_data': [\n",
      "    {\"year\": 1991, \"name\":\"alpha\", \"value\": 15},\n",
      "    {\"year\": 1992, \"name\":\"alpha\", \"value\": 20},\n",
      "    {\"year\": 1994, \"name\":\"alpha\", \"value\": 30},\n",
      "    {\"year\": 1995, \"name\":\"alpha\", \"value\": 60},\n",
      "    {\"year\": 1993, \"name\":\"beta\", \"value\": 40},\n",
      "    {\"year\": 1994, \"name\":\"beta\", \"value\": 60},\n",
      "    {\"year\": 1995, \"name\":\"beta\", \"value\": 10},\n",
      "    {\"year\": 1994, \"name\":\"gamma\", \"value\": 35},\n",
      "    {\"year\": 1995, \"name\":\"gamma\", \"value\": 40}\n",
      "  ],\n",
      "'data_2': [\n",
      "    {\"year\": 1991, \"name\":\"alpha\", \"value\": 30},\n",
      "    {\"year\": 1992, \"name\":\"alpha\", \"value\": 20},\n",
      "    {\"year\": 1994, \"name\":\"alpha\", \"value\": 50},\n",
      "    {\"year\": 1995, \"name\":\"alpha\", \"value\": 60},\n",
      "    {\"year\": 1993, \"name\":\"beta\", \"value\": 32},\n",
      "    {\"year\": 1994, \"name\":\"beta\", \"value\": 60},\n",
      "    {\"year\": 1995, \"name\":\"beta\", \"value\": 56},\n",
      "    {\"year\": 1994, \"name\":\"gamma\", \"value\": 19},\n",
      "    {\"year\": 1995, \"name\":\"gamma\", \"value\": 40}\n",
      "  ],\n",
      "'data_3': [\n",
      "    {\"year\": 1991, \"name\":\"alpha\", \"value\": 20},\n",
      "    {\"year\": 1992, \"name\":\"alpha\", \"value\": 30},\n",
      "    {\"year\": 1994, \"name\":\"alpha\", \"value\": 40},\n",
      "    {\"year\": 1995, \"name\":\"alpha\", \"value\": 60},\n",
      "    {\"year\": 1993, \"name\":\"beta\", \"value\": 10},\n",
      "    {\"year\": 1994, \"name\":\"beta\", \"value\": 40},\n",
      "    {\"year\": 1995, \"name\":\"beta\", \"value\": 35},\n",
      "    {\"year\": 1994, \"name\":\"gamma\", \"value\": 45},\n",
      "    {\"year\": 1995, \"name\":\"gamma\", \"value\": 20}\n",
      "  ]\n",
      "}\n",
      "area_chart = (sticky.d3Plus()\n",
      "                    .stacked_area(width=1000, height=500)\n",
      "                    .data(dat['test_data'])\n",
      "                    .key('name')\n",
      "                    .x('year')\n",
      "                    .y('value'))\n",
      "area_chart.plot()"
     ],
     "language": "python",
     "metadata": {},
     "outputs": [
      {
       "javascript": [
        "require([\"widgets/js/widget\"], function(WidgetManager){\n",
        "\n",
        "    // Define the DOM Creation view for Sticky charts\n",
        "    var StickyDOMWidget = IPython.DOMWidgetView.extend({\n",
        "        render: function(){\n",
        "            var chart_id = this.model.get('chart_id');\n",
        "            var chart_elm = '<div class=\"' + chart_id + '\"></div>';\n",
        "            $(chart_elm).appendTo(this.$el);\n",
        "        },\n",
        "    });\n",
        "    // Register the DOM Renderer with the Widget Manager\n",
        "    WidgetManager.register_widget_view('StickyDOMWidget', StickyDOMWidget);\n",
        "});"
       ],
       "metadata": {},
       "output_type": "display_data",
       "text": [
        "<IPython.core.display.Javascript at 0x113176dd0>"
       ]
      },
      {
       "javascript": [
        "//D3 Plus Library Renderer\n",
        "\n",
        "require([\"widgets/js/widget\"], function(WidgetManager){\n",
        "\n",
        "    function build_chart(chart, model){\n",
        "              var chart_id = '.' + model.get('chart_id');\n",
        "              debugger\n",
        "              chart\n",
        "              .container(chart_id)\n",
        "              .height(model.get('model_height'))\n",
        "              .width(model.get('model_width'))\n",
        "              .data(model.get('model_data'))\n",
        "              .type(model.get('chart_type'))\n",
        "              .id(model.get('model_key'))\n",
        "              .text(model.get('model_key'))\n",
        "              .y(model.get('model_y'))\n",
        "              .x(model.get('model_x'));\n",
        "    }\n",
        "\n",
        "    // Define the DOM Rendering View\n",
        "    var D3PlusRenderer = IPython.DOMWidgetView.extend({\n",
        "        render: function(){\n",
        "            // Instantiate d3plus\n",
        "            this.$d3plus_chart = d3plus.viz();\n",
        "            // Build chart from model params\n",
        "            build_chart(this.$d3plus_chart, this.model);\n",
        "            // Draw\n",
        "            this.$d3plus_chart.draw();\n",
        "        },\n",
        "\n",
        "        update: function(){\n",
        "            build_chart(this.$d3plus_chart, this.model);\n",
        "            this.$d3plus_chart.draw();\n",
        "        }\n",
        "    });\n",
        "    // Register the DOM Rendering View\n",
        "    WidgetManager.register_widget_view('D3Plus', D3PlusRenderer);\n",
        "});"
       ],
       "metadata": {},
       "output_type": "display_data",
       "text": [
        "<IPython.core.display.Javascript at 0x1130b8450>"
       ]
      }
     ],
     "prompt_number": 14
    },
    {
     "cell_type": "code",
     "collapsed": false,
     "input": [
      "line_chart = (sticky.d3Plus()\n",
      "                    .line(width=1000, height=500)\n",
      "                    .data(dat['test_data'])\n",
      "                    .key('name')\n",
      "                    .x('year')\n",
      "                    .y('value'))\n",
      "line_chart.plot()\n",
      "@interact\n",
      "def update_chart(data=['test_data', 'data_2', 'data_3']):\n",
      "    line_chart.update(data=dat[data], chart_type='stacked')"
     ],
     "language": "python",
     "metadata": {},
     "outputs": [
      {
       "output_type": "stream",
       "stream": "stdout",
       "text": [
        "\r"
       ]
      },
      {
       "output_type": "stream",
       "stream": "stderr",
       "text": [
        "\r"
       ]
      }
     ],
     "prompt_number": 15
    },
    {
     "cell_type": "code",
     "collapsed": false,
     "input": [
      "sample_data = [\n",
      "    {\"value\": 100, \"weight\": .45, \"name\": \"alpha\", \"group\": \"group 1\"},\n",
      "    {\"value\": 70, \"weight\": .60, \"name\": \"beta\", \"group\": \"group 2\"},\n",
      "    {\"value\": 40, \"weight\": -.2, \"name\": \"gamma\", \"group\": \"group 2\"},\n",
      "    {\"value\": 15, \"weight\": .1, \"name\": \"delta\", \"group\": \"group 2\"},\n",
      "    {\"value\": 5, \"weight\": -.43, \"name\": \"epsilon\", \"group\": \"group 1\"},\n",
      "    {\"value\": 1, \"weight\": 0, \"name\": \"zeta\", \"group\": \"group 1\"}\n",
      "  ]\n",
      "grouped_scatter = (sticky.d3Plus()\n",
      "                         .grouped_scatter(groupby=\"group\", \n",
      "                                          width=1000, height=500)\n",
      "                         .data(sample_data)\n",
      "                         .key('name')\n",
      "                         .x('value')\n",
      "                         .y('weight'))\n",
      "grouped_scatter.plot()"
     ],
     "language": "python",
     "metadata": {},
     "outputs": [
      {
       "javascript": [
        "require([\"widgets/js/widget\"], function(WidgetManager){\n",
        "\n",
        "    // Define the DOM Creation view for Sticky charts\n",
        "    var StickyDOMWidget = IPython.DOMWidgetView.extend({\n",
        "        render: function(){\n",
        "            var chart_id = this.model.get('chart_id');\n",
        "            var chart_elm = '<div class=\"' + chart_id + '\"></div>';\n",
        "            $(chart_elm).appendTo(this.$el);\n",
        "        },\n",
        "    });\n",
        "    // Register the DOM Renderer with the Widget Manager\n",
        "    WidgetManager.register_widget_view('StickyDOMWidget', StickyDOMWidget);\n",
        "});"
       ],
       "metadata": {},
       "output_type": "display_data",
       "text": [
        "<IPython.core.display.Javascript at 0x11316dc50>"
       ]
      },
      {
       "javascript": [
        "//D3 Plus Library Renderer\n",
        "\n",
        "require([\"widgets/js/widget\"], function(WidgetManager){\n",
        "\n",
        "    function build_chart(chart, model){\n",
        "              var chart_id = '.' + model.get('chart_id');\n",
        "              debugger\n",
        "              chart\n",
        "              .container(chart_id)\n",
        "              .height(model.get('model_height'))\n",
        "              .width(model.get('model_width'))\n",
        "              .data(model.get('model_data'))\n",
        "              .type(model.get('chart_type'))\n",
        "              .id(model.get('model_key'))\n",
        "              .text(model.get('model_key'))\n",
        "              .y(model.get('model_y'))\n",
        "              .x(model.get('model_x'));\n",
        "    }\n",
        "\n",
        "    // Define the DOM Rendering View\n",
        "    var D3PlusRenderer = IPython.DOMWidgetView.extend({\n",
        "        render: function(){\n",
        "            // Instantiate d3plus\n",
        "            this.$d3plus_chart = d3plus.viz();\n",
        "            // Build chart from model params\n",
        "            build_chart(this.$d3plus_chart, this.model);\n",
        "            // Draw\n",
        "            this.$d3plus_chart.draw();\n",
        "        },\n",
        "\n",
        "        update: function(){\n",
        "            build_chart(this.$d3plus_chart, this.model);\n",
        "            this.$d3plus_chart.draw();\n",
        "        }\n",
        "    });\n",
        "    // Register the DOM Rendering View\n",
        "    WidgetManager.register_widget_view('D3Plus', D3PlusRenderer);\n",
        "});"
       ],
       "metadata": {},
       "output_type": "display_data",
       "text": [
        "<IPython.core.display.Javascript at 0x1130b3d90>"
       ]
      }
     ],
     "prompt_number": 16
    },
    {
     "cell_type": "code",
     "collapsed": false,
     "input": [
      "ws = pd.read_table('CO_WS_2011_2012.txt')\n",
      "ws['Date & Time Stamp'] = pd.to_datetime(ws['Date & Time Stamp'])\n",
      "subset = ws[['Date & Time Stamp', 'WS1_50mMean', \n",
      "             'WS2_50mMean', 'WS3_30mMean', 'WS4_40mMean']][:10]\n",
      "molten = pd.melt(subset, id_vars=['Date & Time Stamp'])"
     ],
     "language": "python",
     "metadata": {},
     "outputs": [],
     "prompt_number": 2
    },
    {
     "cell_type": "code",
     "collapsed": false,
     "input": [
      "test = (sticky.C3()\n",
      "              .data(molten)\n",
      "              .x('Date & Time Stamp', timeseries=True)\n",
      "              .y('variable')\n",
      "              .line('WS1_50mMean', 'WS2_50mMean')\n",
      "              .bar('WS3_30mMean', 'WS4_40mMean'))"
     ],
     "language": "python",
     "metadata": {},
     "outputs": [
      {
       "name": "stdout",
       "output_type": "stream",
       "stream": "stdout",
       "text": [
        "ipdb> x\n"
       ]
      },
      {
       "name": "stdout",
       "output_type": "stream",
       "stream": "stdout",
       "text": [
        "ipdb> n\n"
       ]
      },
      {
       "name": "stdout",
       "output_type": "stream",
       "stream": "stdout",
       "text": [
        "ipdb> n\n"
       ]
      },
      {
       "name": "stdout",
       "output_type": "stream",
       "stream": "stdout",
       "text": [
        "ipdb> x\n"
       ]
      },
      {
       "name": "stdout",
       "output_type": "stream",
       "stream": "stdout",
       "text": [
        "ipdb> n\n"
       ]
      },
      {
       "name": "stdout",
       "output_type": "stream",
       "stream": "stdout",
       "text": [
        "ipdb> n\n"
       ]
      },
      {
       "name": "stdout",
       "output_type": "stream",
       "stream": "stdout",
       "text": [
        "ipdb> n\n"
       ]
      },
      {
       "name": "stdout",
       "output_type": "stream",
       "stream": "stdout",
       "text": [
        "ipdb> n\n"
       ]
      },
      {
       "name": "stdout",
       "output_type": "stream",
       "stream": "stdout",
       "text": [
        "ipdb> n\n"
       ]
      },
      {
       "name": "stdout",
       "output_type": "stream",
       "stream": "stdout",
       "text": [
        "ipdb> n\n"
       ]
      },
      {
       "name": "stdout",
       "output_type": "stream",
       "stream": "stdout",
       "text": [
        "ipdb> n\n"
       ]
      },
      {
       "name": "stdout",
       "output_type": "stream",
       "stream": "stdout",
       "text": [
        "ipdb> n\n"
       ]
      },
      {
       "name": "stdout",
       "output_type": "stream",
       "stream": "stdout",
       "text": [
        "ipdb> n\n"
       ]
      },
      {
       "name": "stdout",
       "output_type": "stream",
       "stream": "stdout",
       "text": [
        "ipdb> n\n"
       ]
      },
      {
       "name": "stdout",
       "output_type": "stream",
       "stream": "stdout",
       "text": [
        "ipdb> n\n"
       ]
      },
      {
       "name": "stdout",
       "output_type": "stream",
       "stream": "stdout",
       "text": [
        "ipdb> n\n"
       ]
      },
      {
       "name": "stdout",
       "output_type": "stream",
       "stream": "stdout",
       "text": [
        "ipdb> n\n"
       ]
      },
      {
       "name": "stdout",
       "output_type": "stream",
       "stream": "stdout",
       "text": [
        "ipdb> n\n"
       ]
      },
      {
       "name": "stdout",
       "output_type": "stream",
       "stream": "stdout",
       "text": [
        "ipdb> n\n"
       ]
      },
      {
       "name": "stdout",
       "output_type": "stream",
       "stream": "stdout",
       "text": [
        "ipdb> x\n"
       ]
      },
      {
       "name": "stdout",
       "output_type": "stream",
       "stream": "stdout",
       "text": [
        "ipdb> n\n"
       ]
      },
      {
       "name": "stdout",
       "output_type": "stream",
       "stream": "stdout",
       "text": [
        "ipdb> n\n"
       ]
      },
      {
       "name": "stdout",
       "output_type": "stream",
       "stream": "stdout",
       "text": [
        "ipdb> n\n"
       ]
      },
      {
       "name": "stdout",
       "output_type": "stream",
       "stream": "stdout",
       "text": [
        "ipdb> n\n"
       ]
      },
      {
       "name": "stdout",
       "output_type": "stream",
       "stream": "stdout",
       "text": [
        "ipdb> n\n"
       ]
      },
      {
       "name": "stdout",
       "output_type": "stream",
       "stream": "stdout",
       "text": [
        "ipdb> n\n"
       ]
      },
      {
       "name": "stdout",
       "output_type": "stream",
       "stream": "stdout",
       "text": [
        "ipdb> n\n"
       ]
      },
      {
       "name": "stdout",
       "output_type": "stream",
       "stream": "stdout",
       "text": [
        "ipdb> n\n"
       ]
      },
      {
       "name": "stdout",
       "output_type": "stream",
       "stream": "stdout",
       "text": [
        "ipdb> n\n"
       ]
      },
      {
       "name": "stdout",
       "output_type": "stream",
       "stream": "stdout",
       "text": [
        "ipdb> x\n"
       ]
      },
      {
       "name": "stdout",
       "output_type": "stream",
       "stream": "stdout",
       "text": [
        "ipdb> n\n"
       ]
      },
      {
       "name": "stdout",
       "output_type": "stream",
       "stream": "stdout",
       "text": [
        "ipdb> n\n"
       ]
      },
      {
       "name": "stdout",
       "output_type": "stream",
       "stream": "stdout",
       "text": [
        "ipdb> n\n"
       ]
      },
      {
       "name": "stdout",
       "output_type": "stream",
       "stream": "stdout",
       "text": [
        "ipdb> n\n"
       ]
      },
      {
       "name": "stdout",
       "output_type": "stream",
       "stream": "stdout",
       "text": [
        "ipdb> n\n"
       ]
      },
      {
       "name": "stdout",
       "output_type": "stream",
       "stream": "stdout",
       "text": [
        "ipdb> n\n"
       ]
      },
      {
       "name": "stdout",
       "output_type": "stream",
       "stream": "stdout",
       "text": [
        "ipdb> n\n"
       ]
      },
      {
       "name": "stdout",
       "output_type": "stream",
       "stream": "stdout",
       "text": [
        "ipdb> n\n"
       ]
      },
      {
       "name": "stdout",
       "output_type": "stream",
       "stream": "stdout",
       "text": [
        "ipdb> x\n"
       ]
      },
      {
       "name": "stdout",
       "output_type": "stream",
       "stream": "stdout",
       "text": [
        "ipdb> self.model_x\n"
       ]
      },
      {
       "name": "stdout",
       "output_type": "stream",
       "stream": "stdout",
       "text": [
        "ipdb> self.model_x = 'test'\n"
       ]
      },
      {
       "name": "stdout",
       "output_type": "stream",
       "stream": "stdout",
       "text": [
        "ipdb> self.model_x = 'foo'\n"
       ]
      },
      {
       "name": "stdout",
       "output_type": "stream",
       "stream": "stdout",
       "text": [
        "ipdb> self.model_x\n"
       ]
      }
     ]
    },
    {
     "cell_type": "code",
     "collapsed": false,
     "input": [],
     "language": "python",
     "metadata": {},
     "outputs": []
    }
   ],
   "metadata": {}
  }
 ]
}