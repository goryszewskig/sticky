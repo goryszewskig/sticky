{
 "metadata": {
  "name": "",
  "signature": "sha256:da7471d31ccb213b1a5e10e7048dee4ae178eefe5ee4eec05c311c9af474202c"
 },
 "nbformat": 3,
 "nbformat_minor": 0,
 "worksheets": []
}