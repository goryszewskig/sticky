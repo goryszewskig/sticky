{
 "metadata": {
  "name": "",
  "signature": "sha256:1a6e8a67b3d0c4b47e585db1ab4b7c3a203486334692bba70bf7e893ccbe76f7"
 },
 "nbformat": 3,
 "nbformat_minor": 0,
 "worksheets": [
  {
   "cells": [
    {
     "cell_type": "code",
     "collapsed": false,
     "input": [
      "import sticky.tests.test_core as stc\n",
      "\n"
     ],
     "language": "python",
     "metadata": {},
     "outputs": [],
     "prompt_number": 1
    },
    {
     "cell_type": "code",
     "collapsed": false,
     "input": [
      "core_tests = [\n",
      "    'test_get_dom_widget',\n",
      "    'test_set_chart_attrs',\n",
      "    'test_update'\n",
      "]\n",
      "for test in core_tests:\n",
      "    tester = stc.TestCore(test)\n",
      "    tester.run()"
     ],
     "language": "python",
     "metadata": {},
     "outputs": [
      {
       "javascript": [
        "require([\"widgets/js/widget\"], function(WidgetManager){\n",
        "\n",
        "    // Define the DOM Creation view for Sticky charts\n",
        "    var StickyDOMWidget = IPython.DOMWidgetView.extend({\n",
        "        render: function(){\n",
        "            var chart_id = this.model.get('chart_id');\n",
        "            var chart_elm = '<div class=\"' + chart_id + '\"></div>';\n",
        "            $(chart_elm).appendTo(this.$el);\n",
        "        },\n",
        "    });\n",
        "    // Register the DOM Renderer with the Widget Manager\n",
        "    WidgetManager.register_widget_view('StickyDOMWidget', StickyDOMWidget);\n",
        "});"
       ],
       "metadata": {},
       "output_type": "display_data",
       "text": [
        "<IPython.core.display.Javascript at 0x10247c410>"
       ]
      },
      {
       "javascript": [
        "//Micropolar Library Renderer\n",
        "\n",
        "require([\"widgets/js/widget\"], function(WidgetManager){\n",
        "\n",
        "    // Define the DOM Rendering View\n",
        "    var MicropolarRender = IPython.DOMWidgetView.extend({\n",
        "        render: function(){\n",
        "            var chart_id = '.' + this.model.get('chart_id');\n",
        "            var polarPlot = micropolar.DotPlot();\n",
        "            this.$plot_config = {\n",
        "                geometry: polarPlot,\n",
        "                data: [[0, 500], [1, 1000], [3, 2000]],\n",
        "                height: this.model.get('model_height'),\n",
        "                width: this.model.get('model_width'),\n",
        "                angularDomain: [0, 2000],\n",
        "                angularTicksStep: 400,\n",
        "                minorTicks: 1,\n",
        "                flip: false,\n",
        "                originTheta: 0,\n",
        "                radialAxisTheta: -15,\n",
        "                containerSelector: chart_id\n",
        "            };\n",
        "            this.$micropolar_chart = micropolar.Axis().config(this.$plot_config);\n",
        "            this.$micropolar_chart();\n",
        "        },\n",
        "\n",
        "        update: function(){\n",
        "            this.$plot_config.height = this.model.get('height');\n",
        "            this.$plot_config.width = this.model.get('width');\n",
        "            this.$micropolar_chart.config(this.$plot_config);\n",
        "            this.$micropolar_chart();\n",
        "            return MicropolarRender.__super__.update.apply(this);\n",
        "        }\n",
        "    });\n",
        "    // Register the DOM Rendering View\n",
        "    WidgetManager.register_widget_view('Micropolar', MicropolarRender);\n",
        "});"
       ],
       "metadata": {},
       "output_type": "display_data",
       "text": [
        "<IPython.core.display.Javascript at 0x102472690>"
       ]
      },
      {
       "javascript": [
        "require([\"widgets/js/widget\"], function(WidgetManager){\n",
        "\n",
        "    // Define the DOM Creation view for Sticky charts\n",
        "    var StickyDOMWidget = IPython.DOMWidgetView.extend({\n",
        "        render: function(){\n",
        "            var chart_id = this.model.get('chart_id');\n",
        "            var chart_elm = '<div class=\"' + chart_id + '\"></div>';\n",
        "            $(chart_elm).appendTo(this.$el);\n",
        "        },\n",
        "    });\n",
        "    // Register the DOM Renderer with the Widget Manager\n",
        "    WidgetManager.register_widget_view('StickyDOMWidget', StickyDOMWidget);\n",
        "});"
       ],
       "metadata": {},
       "output_type": "display_data",
       "text": [
        "<IPython.core.display.Javascript at 0x10247c650>"
       ]
      },
      {
       "javascript": [
        "//Micropolar Library Renderer\n",
        "\n",
        "require([\"widgets/js/widget\"], function(WidgetManager){\n",
        "\n",
        "    // Define the DOM Rendering View\n",
        "    var MicropolarRender = IPython.DOMWidgetView.extend({\n",
        "        render: function(){\n",
        "            var chart_id = '.' + this.model.get('chart_id');\n",
        "            var polarPlot = micropolar.DotPlot();\n",
        "            this.$plot_config = {\n",
        "                geometry: polarPlot,\n",
        "                data: [[0, 500], [1, 1000], [3, 2000]],\n",
        "                height: this.model.get('model_height'),\n",
        "                width: this.model.get('model_width'),\n",
        "                angularDomain: [0, 2000],\n",
        "                angularTicksStep: 400,\n",
        "                minorTicks: 1,\n",
        "                flip: false,\n",
        "                originTheta: 0,\n",
        "                radialAxisTheta: -15,\n",
        "                containerSelector: chart_id\n",
        "            };\n",
        "            this.$micropolar_chart = micropolar.Axis().config(this.$plot_config);\n",
        "            this.$micropolar_chart();\n",
        "        },\n",
        "\n",
        "        update: function(){\n",
        "            this.$plot_config.height = this.model.get('height');\n",
        "            this.$plot_config.width = this.model.get('width');\n",
        "            this.$micropolar_chart.config(this.$plot_config);\n",
        "            this.$micropolar_chart();\n",
        "            return MicropolarRender.__super__.update.apply(this);\n",
        "        }\n",
        "    });\n",
        "    // Register the DOM Rendering View\n",
        "    WidgetManager.register_widget_view('Micropolar', MicropolarRender);\n",
        "});"
       ],
       "metadata": {},
       "output_type": "display_data",
       "text": [
        "<IPython.core.display.Javascript at 0x10247c7d0>"
       ]
      }
     ],
     "prompt_number": 2
    }
   ],
   "metadata": {}
  }
 ]
}